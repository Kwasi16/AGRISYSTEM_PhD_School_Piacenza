{
  "cells": [
    {
      "cell_type": "markdown",
      "id": "ae171f0c-783a-47e7-b5fd-34bd9aa568c4",
      "metadata": {
        "jp-MarkdownHeadingCollapsed": true,
        "id": "ae171f0c-783a-47e7-b5fd-34bd9aa568c4"
      },
      "source": [
        " # Machine learning methods for the analysis of bacterial genomes: classification using Random Forest"
      ]
    },
    {
      "cell_type": "markdown",
      "id": "14636741-d57e-4920-b893-a377a1cf3526",
      "metadata": {
        "id": "14636741-d57e-4920-b893-a377a1cf3526"
      },
      "source": [
        "We provide here a workflow for machine learning (ML) classification of binary outcomes (e.g. healthy/sick, presence/absence, yes/no) based on a set of features or predictors (e.g. metadata) using random forest.\n",
        "\n",
        "To test this workflow we used a random subset (subset.csv) of the dataset utilized in Bobbo et al. (2024; https://doi.org/10.1186/s12864-024-10832-y), a study which aimed to apply ML algorithms to replicate the accurate classification of archaea and bacteria and to extract the relevant genomic features that drive their classification. Archaea and Bacteria are distinct domains of life that are adapted to a variety of ecological niches. Several genome-based methods have been developed for their accurate classification, yet many aspects of the specific genomic features that determine these differences are not fully understood. In Bobbo et al. (2024), we used publicly available whole-genome sequences from bacteria and archaea. From these, a set of genomic features (nucleotide frequencies and proportions, coding sequences (CDS), non-coding, ribosomal and transfer RNA genes (ncRNA, rRNA, tRNA), Chargaff’s, topological entropy and Shannon’s entropy scores) was extracted using GBRAP tool and used as input data to develop ML models for the classification of archaea and bacteria.\n",
        "For this workflow, the input dataset should include, in order: binary Outcome (e.g., Archaea/Bacteria), ID (e.g., sample ID), features/predictors. A total of 363 records (109 Archaea and 254 Bacteria) and 79 genomic features (numerical variables) were considered in \"subset.csv\"."
      ]
    },
    {
      "cell_type": "markdown",
      "id": "cbce6c6c-3f05-48fb-bef0-9ad76b779717",
      "metadata": {
        "id": "cbce6c6c-3f05-48fb-bef0-9ad76b779717"
      },
      "source": [
        "## Install libraries\n",
        "Install required libraries."
      ]
    },
    {
      "cell_type": "code",
      "execution_count": 2,
      "id": "b90fedfb-dd27-4fa2-aa9d-7816c9931e02",
      "metadata": {
        "editable": true,
        "scrolled": true,
        "tags": [],
        "vscode": {
          "languageId": "r"
        },
        "id": "b90fedfb-dd27-4fa2-aa9d-7816c9931e02",
        "outputId": "6f7cac71-118d-4e5a-a3e2-19eafbbf031a",
        "colab": {
          "base_uri": "https://localhost:8080/"
        }
      },
      "outputs": [
        {
          "output_type": "stream",
          "name": "stderr",
          "text": [
            "Installing package into ‘/usr/local/lib/R/site-library’\n",
            "(as ‘lib’ is unspecified)\n",
            "\n",
            "Installing package into ‘/usr/local/lib/R/site-library’\n",
            "(as ‘lib’ is unspecified)\n",
            "\n",
            "Installing package into ‘/usr/local/lib/R/site-library’\n",
            "(as ‘lib’ is unspecified)\n",
            "\n",
            "Installing package into ‘/usr/local/lib/R/site-library’\n",
            "(as ‘lib’ is unspecified)\n",
            "\n"
          ]
        }
      ],
      "source": [
        "install.packages('vip')\n",
        "install.packages('randomForest')\n",
        "#install.packages('ggplot2') already installed\n",
        "#install.packages('tidyverse') already installed\n",
        "#install.packages('data.table') already installed\n",
        "install.packages('tidymodels')\n",
        "install.packages('themis')"
      ]
    },
    {
      "cell_type": "markdown",
      "id": "862e6f35-296f-4494-a700-9d177be48ee4",
      "metadata": {
        "id": "862e6f35-296f-4494-a700-9d177be48ee4"
      },
      "source": [
        "## Load libraries\n",
        "Load required libraries."
      ]
    },
    {
      "cell_type": "code",
      "execution_count": 3,
      "id": "22e8efb6-ad75-4977-9185-20941436ec7f",
      "metadata": {
        "vscode": {
          "languageId": "r"
        },
        "id": "22e8efb6-ad75-4977-9185-20941436ec7f",
        "outputId": "84a69918-8882-48e2-8a16-5b6938eed5f1",
        "colab": {
          "base_uri": "https://localhost:8080/"
        }
      },
      "outputs": [
        {
          "output_type": "stream",
          "name": "stderr",
          "text": [
            "\n",
            "Attaching package: ‘vip’\n",
            "\n",
            "\n",
            "The following object is masked from ‘package:utils’:\n",
            "\n",
            "    vi\n",
            "\n",
            "\n",
            "randomForest 4.7-1.2\n",
            "\n",
            "Type rfNews() to see new features/changes/bug fixes.\n",
            "\n",
            "\n",
            "Attaching package: ‘ggplot2’\n",
            "\n",
            "\n",
            "The following object is masked from ‘package:randomForest’:\n",
            "\n",
            "    margin\n",
            "\n",
            "\n",
            "── \u001b[1mAttaching core tidyverse packages\u001b[22m ──────────────────────── tidyverse 2.0.0 ──\n",
            "\u001b[32m✔\u001b[39m \u001b[34mdplyr    \u001b[39m 1.1.4     \u001b[32m✔\u001b[39m \u001b[34mreadr    \u001b[39m 2.1.5\n",
            "\u001b[32m✔\u001b[39m \u001b[34mforcats  \u001b[39m 1.0.0     \u001b[32m✔\u001b[39m \u001b[34mstringr  \u001b[39m 1.5.1\n",
            "\u001b[32m✔\u001b[39m \u001b[34mlubridate\u001b[39m 1.9.4     \u001b[32m✔\u001b[39m \u001b[34mtibble   \u001b[39m 3.3.0\n",
            "\u001b[32m✔\u001b[39m \u001b[34mpurrr    \u001b[39m 1.1.0     \u001b[32m✔\u001b[39m \u001b[34mtidyr    \u001b[39m 1.3.1\n",
            "── \u001b[1mConflicts\u001b[22m ────────────────────────────────────────── tidyverse_conflicts() ──\n",
            "\u001b[31m✖\u001b[39m \u001b[34mdplyr\u001b[39m::\u001b[32mcombine()\u001b[39m  masks \u001b[34mrandomForest\u001b[39m::combine()\n",
            "\u001b[31m✖\u001b[39m \u001b[34mdplyr\u001b[39m::\u001b[32mfilter()\u001b[39m   masks \u001b[34mstats\u001b[39m::filter()\n",
            "\u001b[31m✖\u001b[39m \u001b[34mdplyr\u001b[39m::\u001b[32mlag()\u001b[39m      masks \u001b[34mstats\u001b[39m::lag()\n",
            "\u001b[31m✖\u001b[39m \u001b[34mggplot2\u001b[39m::\u001b[32mmargin()\u001b[39m masks \u001b[34mrandomForest\u001b[39m::margin()\n",
            "\u001b[36mℹ\u001b[39m Use the conflicted package (\u001b[3m\u001b[34m<http://conflicted.r-lib.org/>\u001b[39m\u001b[23m) to force all conflicts to become errors\n",
            "\n",
            "Attaching package: ‘data.table’\n",
            "\n",
            "\n",
            "The following objects are masked from ‘package:lubridate’:\n",
            "\n",
            "    hour, isoweek, mday, minute, month, quarter, second, wday, week,\n",
            "    yday, year\n",
            "\n",
            "\n",
            "The following objects are masked from ‘package:dplyr’:\n",
            "\n",
            "    between, first, last\n",
            "\n",
            "\n",
            "The following object is masked from ‘package:purrr’:\n",
            "\n",
            "    transpose\n",
            "\n",
            "\n",
            "── \u001b[1mAttaching packages\u001b[22m ────────────────────────────────────── tidymodels 1.3.0 ──\n",
            "\n",
            "\u001b[32m✔\u001b[39m \u001b[34mbroom       \u001b[39m 1.0.8     \u001b[32m✔\u001b[39m \u001b[34mrsample     \u001b[39m 1.3.0\n",
            "\u001b[32m✔\u001b[39m \u001b[34mdials       \u001b[39m 1.4.0     \u001b[32m✔\u001b[39m \u001b[34mtune        \u001b[39m 1.3.0\n",
            "\u001b[32m✔\u001b[39m \u001b[34minfer       \u001b[39m 1.0.9     \u001b[32m✔\u001b[39m \u001b[34mworkflows   \u001b[39m 1.2.0\n",
            "\u001b[32m✔\u001b[39m \u001b[34mmodeldata   \u001b[39m 1.4.0     \u001b[32m✔\u001b[39m \u001b[34mworkflowsets\u001b[39m 1.1.1\n",
            "\u001b[32m✔\u001b[39m \u001b[34mparsnip     \u001b[39m 1.3.2     \u001b[32m✔\u001b[39m \u001b[34myardstick   \u001b[39m 1.3.2\n",
            "\u001b[32m✔\u001b[39m \u001b[34mrecipes     \u001b[39m 1.3.1     \n",
            "\n",
            "── \u001b[1mConflicts\u001b[22m ───────────────────────────────────────── tidymodels_conflicts() ──\n",
            "\u001b[31m✖\u001b[39m \u001b[34mdata.table\u001b[39m::\u001b[32mbetween()\u001b[39m   masks \u001b[34mdplyr\u001b[39m::between()\n",
            "\u001b[31m✖\u001b[39m \u001b[34mdplyr\u001b[39m::\u001b[32mcombine()\u001b[39m        masks \u001b[34mrandomForest\u001b[39m::combine()\n",
            "\u001b[31m✖\u001b[39m \u001b[34mscales\u001b[39m::\u001b[32mdiscard()\u001b[39m       masks \u001b[34mpurrr\u001b[39m::discard()\n",
            "\u001b[31m✖\u001b[39m \u001b[34mdplyr\u001b[39m::\u001b[32mfilter()\u001b[39m         masks \u001b[34mstats\u001b[39m::filter()\n",
            "\u001b[31m✖\u001b[39m \u001b[34mdata.table\u001b[39m::\u001b[32mfirst()\u001b[39m     masks \u001b[34mdplyr\u001b[39m::first()\n",
            "\u001b[31m✖\u001b[39m \u001b[34mrecipes\u001b[39m::\u001b[32mfixed()\u001b[39m        masks \u001b[34mstringr\u001b[39m::fixed()\n",
            "\u001b[31m✖\u001b[39m \u001b[34mdplyr\u001b[39m::\u001b[32mlag()\u001b[39m            masks \u001b[34mstats\u001b[39m::lag()\n",
            "\u001b[31m✖\u001b[39m \u001b[34mdata.table\u001b[39m::\u001b[32mlast()\u001b[39m      masks \u001b[34mdplyr\u001b[39m::last()\n",
            "\u001b[31m✖\u001b[39m \u001b[34mggplot2\u001b[39m::\u001b[32mmargin()\u001b[39m       masks \u001b[34mrandomForest\u001b[39m::margin()\n",
            "\u001b[31m✖\u001b[39m \u001b[34myardstick\u001b[39m::\u001b[32mspec()\u001b[39m       masks \u001b[34mreadr\u001b[39m::spec()\n",
            "\u001b[31m✖\u001b[39m \u001b[34mrecipes\u001b[39m::\u001b[32mstep()\u001b[39m         masks \u001b[34mstats\u001b[39m::step()\n",
            "\u001b[31m✖\u001b[39m \u001b[34mdata.table\u001b[39m::\u001b[32mtranspose()\u001b[39m masks \u001b[34mpurrr\u001b[39m::transpose()\n",
            "\n"
          ]
        }
      ],
      "source": [
        "library(\"vip\")\n",
        "library(\"randomForest\")\n",
        "library(\"ggplot2\")\n",
        "library(\"tidyverse\")\n",
        "library(\"data.table\")\n",
        "library(\"tidymodels\")\n",
        "library(\"themis\")  # for step_upsample"
      ]
    },
    {
      "cell_type": "markdown",
      "id": "ead0c55d-31ac-401b-88aa-f9a13b49b2d6",
      "metadata": {
        "id": "ead0c55d-31ac-401b-88aa-f9a13b49b2d6"
      },
      "source": [
        "## Parameters setting\n",
        "The parameters that the user have to set prior to the analysis are listed below:\n",
        "\n",
        "- input_file: input dataset\n",
        "- split_ratio: dataset train/test split proportion (e.g., 80:20 = 0.80, 70:30 = 0.70);\n",
        "- k_folds: number of folds in (repeated) K-fold crossvalidation  (e.g., 3,5,10);\n",
        "- nrepeats_cv: number of k-fold crossvalidation repeats (e.g., 10,100,1000; 1 is recommended as a first test) during model training;\n",
        "\n",
        "The ML analysis is performed using the R Tidymodels package and detailed information can be found at https://www.tidymodels.org/."
      ]
    },
    {
      "cell_type": "code",
      "execution_count": 4,
      "id": "6d0e9b66-74df-409d-af4e-292bb0f413c6",
      "metadata": {
        "vscode": {
          "languageId": "r"
        },
        "id": "6d0e9b66-74df-409d-af4e-292bb0f413c6"
      },
      "outputs": [],
      "source": [
        "input_file = \"https://raw.githubusercontent.com/taniabobbo/AGRISYSTEM_PhD_School_Piacenza/refs/heads/main/subset.csv\"\n",
        "split_ratio = 0.80\n",
        "k_folds = 10\n",
        "nrepeats_cv = 3"
      ]
    },
    {
      "cell_type": "markdown",
      "id": "90b29437-0d5a-486b-bb3b-35e072dfd33f",
      "metadata": {
        "id": "90b29437-0d5a-486b-bb3b-35e072dfd33f"
      },
      "source": [
        "## Import dataset\n",
        "- Import dataset : specify \".\" for decimals; \".\", \"-\", \"NA\" will be considered as missing values; convert character columns to factors\n",
        "- Check dataset dimension (number of records and columns)\n",
        "- Visualize first six records\n",
        "- Check structure of the dataset : binary outcome and ID should be considered as factors, features can be all numeric (e.g, height, weight), all factors (e.g., sex) or both.\n"
      ]
    },
    {
      "cell_type": "code",
      "execution_count": 5,
      "id": "73500c9a-f4bd-4d66-867d-f5c53abb620b",
      "metadata": {
        "scrolled": true,
        "vscode": {
          "languageId": "r"
        },
        "id": "73500c9a-f4bd-4d66-867d-f5c53abb620b",
        "outputId": "a3e0a04e-8c10-4221-a868-98a822b980e8",
        "colab": {
          "base_uri": "https://localhost:8080/",
          "height": 1000
        }
      },
      "outputs": [
        {
          "output_type": "display_data",
          "data": {
            "text/html": [
              "<style>\n",
              ".list-inline {list-style: none; margin:0; padding: 0}\n",
              ".list-inline>li {display: inline-block}\n",
              ".list-inline>li:not(:last-child)::after {content: \"\\00b7\"; padding: 0 .5ex}\n",
              "</style>\n",
              "<ol class=list-inline><li>363</li><li>79</li></ol>\n"
            ],
            "text/markdown": "1. 363\n2. 79\n\n\n",
            "text/latex": "\\begin{enumerate*}\n\\item 363\n\\item 79\n\\end{enumerate*}\n",
            "text/plain": [
              "[1] 363  79"
            ]
          },
          "metadata": {}
        },
        {
          "output_type": "display_data",
          "data": {
            "text/html": [
              "<table class=\"dataframe\">\n",
              "<caption>A data.table: 6 × 79</caption>\n",
              "<thead>\n",
              "\t<tr><th scope=col>Outcome</th><th scope=col>ID</th><th scope=col>bp_genA</th><th scope=col>bp_genT</th><th scope=col>bp_genC</th><th scope=col>bp_genG</th><th scope=col>bp_genome_total</th><th scope=col>fr_genA</th><th scope=col>fr_genT</th><th scope=col>fr_genC</th><th scope=col>⋯</th><th scope=col>bp_rRNA_G</th><th scope=col>bp_rRNA_total</th><th scope=col>fr_rRNA_A</th><th scope=col>fr_rRNA_T</th><th scope=col>fr_rRNA_C</th><th scope=col>fr_rRNA_G</th><th scope=col>rRNA_topological_entropy_score</th><th scope=col>rRNA_chargaff_score_pf</th><th scope=col>rRNA_chargaff_score_ct</th><th scope=col>rRNA_shannon_score</th></tr>\n",
              "\t<tr><th scope=col>&lt;fct&gt;</th><th scope=col>&lt;fct&gt;</th><th scope=col>&lt;int&gt;</th><th scope=col>&lt;int&gt;</th><th scope=col>&lt;int&gt;</th><th scope=col>&lt;int&gt;</th><th scope=col>&lt;int&gt;</th><th scope=col>&lt;dbl&gt;</th><th scope=col>&lt;dbl&gt;</th><th scope=col>&lt;dbl&gt;</th><th scope=col>⋯</th><th scope=col>&lt;int&gt;</th><th scope=col>&lt;int&gt;</th><th scope=col>&lt;dbl&gt;</th><th scope=col>&lt;dbl&gt;</th><th scope=col>&lt;dbl&gt;</th><th scope=col>&lt;dbl&gt;</th><th scope=col>&lt;dbl&gt;</th><th scope=col>&lt;dbl&gt;</th><th scope=col>&lt;dbl&gt;</th><th scope=col>&lt;dbl&gt;</th></tr>\n",
              "</thead>\n",
              "<tbody>\n",
              "\t<tr><td>Archaea</td><td>NC_013741  </td><td> 452769</td><td> 452260</td><td>326684</td><td>328909</td><td>1560622</td><td>0.29</td><td>0.29</td><td>0.21</td><td>⋯</td><td>1680</td><td> 4610</td><td>0.21</td><td>0.14</td><td>0.29</td><td>0.36</td><td>0.8865</td><td>0.2936</td><td>0.7477</td><td>1.9147</td></tr>\n",
              "\t<tr><td>Archaea</td><td>NC_015320  </td><td> 500556</td><td> 506542</td><td>447794</td><td>447051</td><td>1901943</td><td>0.26</td><td>0.27</td><td>0.24</td><td>⋯</td><td>1640</td><td> 4573</td><td>0.21</td><td>0.16</td><td>0.28</td><td>0.35</td><td>0.8914</td><td>0.2527</td><td>0.7775</td><td>1.9350</td></tr>\n",
              "\t<tr><td>Archaea</td><td>NZ_CP012850</td><td>1129864</td><td>1129640</td><td>585429</td><td>585773</td><td>3430706</td><td>0.33</td><td>0.33</td><td>0.17</td><td>⋯</td><td>4083</td><td>13391</td><td>0.25</td><td>0.20</td><td>0.24</td><td>0.31</td><td>0.9176</td><td>0.2240</td><td>0.8011</td><td>1.9811</td></tr>\n",
              "\t<tr><td>Archaea</td><td>NZ_CP021324</td><td> 464438</td><td> 468067</td><td>215792</td><td>211779</td><td>1360076</td><td>0.34</td><td>0.34</td><td>0.16</td><td>⋯</td><td>1329</td><td> 4588</td><td>0.26</td><td>0.23</td><td>0.23</td><td>0.29</td><td>0.9252</td><td>0.1873</td><td>0.8325</td><td>1.9908</td></tr>\n",
              "\t<tr><td>Archaea</td><td>NZ_CP007026</td><td> 411277</td><td> 412305</td><td>205756</td><td>202790</td><td>1232128</td><td>0.33</td><td>0.33</td><td>0.17</td><td>⋯</td><td>1338</td><td> 4597</td><td>0.26</td><td>0.23</td><td>0.23</td><td>0.29</td><td>0.9155</td><td>0.1908</td><td>0.8302</td><td>1.9900</td></tr>\n",
              "\t<tr><td>Archaea</td><td>NC_013849  </td><td> 615993</td><td> 610942</td><td>481744</td><td>487587</td><td>2196266</td><td>0.28</td><td>0.28</td><td>0.22</td><td>⋯</td><td>1677</td><td> 4613</td><td>0.20</td><td>0.15</td><td>0.30</td><td>0.36</td><td>0.8914</td><td>0.2525</td><td>0.7781</td><td>1.9205</td></tr>\n",
              "</tbody>\n",
              "</table>\n"
            ],
            "text/markdown": "\nA data.table: 6 × 79\n\n| Outcome &lt;fct&gt; | ID &lt;fct&gt; | bp_genA &lt;int&gt; | bp_genT &lt;int&gt; | bp_genC &lt;int&gt; | bp_genG &lt;int&gt; | bp_genome_total &lt;int&gt; | fr_genA &lt;dbl&gt; | fr_genT &lt;dbl&gt; | fr_genC &lt;dbl&gt; | ⋯ ⋯ | bp_rRNA_G &lt;int&gt; | bp_rRNA_total &lt;int&gt; | fr_rRNA_A &lt;dbl&gt; | fr_rRNA_T &lt;dbl&gt; | fr_rRNA_C &lt;dbl&gt; | fr_rRNA_G &lt;dbl&gt; | rRNA_topological_entropy_score &lt;dbl&gt; | rRNA_chargaff_score_pf &lt;dbl&gt; | rRNA_chargaff_score_ct &lt;dbl&gt; | rRNA_shannon_score &lt;dbl&gt; |\n|---|---|---|---|---|---|---|---|---|---|---|---|---|---|---|---|---|---|---|---|---|\n| Archaea | NC_013741   |  452769 |  452260 | 326684 | 328909 | 1560622 | 0.29 | 0.29 | 0.21 | ⋯ | 1680 |  4610 | 0.21 | 0.14 | 0.29 | 0.36 | 0.8865 | 0.2936 | 0.7477 | 1.9147 |\n| Archaea | NC_015320   |  500556 |  506542 | 447794 | 447051 | 1901943 | 0.26 | 0.27 | 0.24 | ⋯ | 1640 |  4573 | 0.21 | 0.16 | 0.28 | 0.35 | 0.8914 | 0.2527 | 0.7775 | 1.9350 |\n| Archaea | NZ_CP012850 | 1129864 | 1129640 | 585429 | 585773 | 3430706 | 0.33 | 0.33 | 0.17 | ⋯ | 4083 | 13391 | 0.25 | 0.20 | 0.24 | 0.31 | 0.9176 | 0.2240 | 0.8011 | 1.9811 |\n| Archaea | NZ_CP021324 |  464438 |  468067 | 215792 | 211779 | 1360076 | 0.34 | 0.34 | 0.16 | ⋯ | 1329 |  4588 | 0.26 | 0.23 | 0.23 | 0.29 | 0.9252 | 0.1873 | 0.8325 | 1.9908 |\n| Archaea | NZ_CP007026 |  411277 |  412305 | 205756 | 202790 | 1232128 | 0.33 | 0.33 | 0.17 | ⋯ | 1338 |  4597 | 0.26 | 0.23 | 0.23 | 0.29 | 0.9155 | 0.1908 | 0.8302 | 1.9900 |\n| Archaea | NC_013849   |  615993 |  610942 | 481744 | 487587 | 2196266 | 0.28 | 0.28 | 0.22 | ⋯ | 1677 |  4613 | 0.20 | 0.15 | 0.30 | 0.36 | 0.8914 | 0.2525 | 0.7781 | 1.9205 |\n\n",
            "text/latex": "A data.table: 6 × 79\n\\begin{tabular}{lllllllllllllllllllll}\n Outcome & ID & bp\\_genA & bp\\_genT & bp\\_genC & bp\\_genG & bp\\_genome\\_total & fr\\_genA & fr\\_genT & fr\\_genC & ⋯ & bp\\_rRNA\\_G & bp\\_rRNA\\_total & fr\\_rRNA\\_A & fr\\_rRNA\\_T & fr\\_rRNA\\_C & fr\\_rRNA\\_G & rRNA\\_topological\\_entropy\\_score & rRNA\\_chargaff\\_score\\_pf & rRNA\\_chargaff\\_score\\_ct & rRNA\\_shannon\\_score\\\\\n <fct> & <fct> & <int> & <int> & <int> & <int> & <int> & <dbl> & <dbl> & <dbl> & ⋯ & <int> & <int> & <dbl> & <dbl> & <dbl> & <dbl> & <dbl> & <dbl> & <dbl> & <dbl>\\\\\n\\hline\n\t Archaea & NC\\_013741   &  452769 &  452260 & 326684 & 328909 & 1560622 & 0.29 & 0.29 & 0.21 & ⋯ & 1680 &  4610 & 0.21 & 0.14 & 0.29 & 0.36 & 0.8865 & 0.2936 & 0.7477 & 1.9147\\\\\n\t Archaea & NC\\_015320   &  500556 &  506542 & 447794 & 447051 & 1901943 & 0.26 & 0.27 & 0.24 & ⋯ & 1640 &  4573 & 0.21 & 0.16 & 0.28 & 0.35 & 0.8914 & 0.2527 & 0.7775 & 1.9350\\\\\n\t Archaea & NZ\\_CP012850 & 1129864 & 1129640 & 585429 & 585773 & 3430706 & 0.33 & 0.33 & 0.17 & ⋯ & 4083 & 13391 & 0.25 & 0.20 & 0.24 & 0.31 & 0.9176 & 0.2240 & 0.8011 & 1.9811\\\\\n\t Archaea & NZ\\_CP021324 &  464438 &  468067 & 215792 & 211779 & 1360076 & 0.34 & 0.34 & 0.16 & ⋯ & 1329 &  4588 & 0.26 & 0.23 & 0.23 & 0.29 & 0.9252 & 0.1873 & 0.8325 & 1.9908\\\\\n\t Archaea & NZ\\_CP007026 &  411277 &  412305 & 205756 & 202790 & 1232128 & 0.33 & 0.33 & 0.17 & ⋯ & 1338 &  4597 & 0.26 & 0.23 & 0.23 & 0.29 & 0.9155 & 0.1908 & 0.8302 & 1.9900\\\\\n\t Archaea & NC\\_013849   &  615993 &  610942 & 481744 & 487587 & 2196266 & 0.28 & 0.28 & 0.22 & ⋯ & 1677 &  4613 & 0.20 & 0.15 & 0.30 & 0.36 & 0.8914 & 0.2525 & 0.7781 & 1.9205\\\\\n\\end{tabular}\n",
            "text/plain": [
              "  Outcome ID          bp_genA bp_genT bp_genC bp_genG bp_genome_total fr_genA\n",
              "1 Archaea NC_013741    452769  452260 326684  328909  1560622         0.29   \n",
              "2 Archaea NC_015320    500556  506542 447794  447051  1901943         0.26   \n",
              "3 Archaea NZ_CP012850 1129864 1129640 585429  585773  3430706         0.33   \n",
              "4 Archaea NZ_CP021324  464438  468067 215792  211779  1360076         0.34   \n",
              "5 Archaea NZ_CP007026  411277  412305 205756  202790  1232128         0.33   \n",
              "6 Archaea NC_013849    615993  610942 481744  487587  2196266         0.28   \n",
              "  fr_genT fr_genC ⋯ bp_rRNA_G bp_rRNA_total fr_rRNA_A fr_rRNA_T fr_rRNA_C\n",
              "1 0.29    0.21    ⋯ 1680       4610         0.21      0.14      0.29     \n",
              "2 0.27    0.24    ⋯ 1640       4573         0.21      0.16      0.28     \n",
              "3 0.33    0.17    ⋯ 4083      13391         0.25      0.20      0.24     \n",
              "4 0.34    0.16    ⋯ 1329       4588         0.26      0.23      0.23     \n",
              "5 0.33    0.17    ⋯ 1338       4597         0.26      0.23      0.23     \n",
              "6 0.28    0.22    ⋯ 1677       4613         0.20      0.15      0.30     \n",
              "  fr_rRNA_G rRNA_topological_entropy_score rRNA_chargaff_score_pf\n",
              "1 0.36      0.8865                         0.2936                \n",
              "2 0.35      0.8914                         0.2527                \n",
              "3 0.31      0.9176                         0.2240                \n",
              "4 0.29      0.9252                         0.1873                \n",
              "5 0.29      0.9155                         0.1908                \n",
              "6 0.36      0.8914                         0.2525                \n",
              "  rRNA_chargaff_score_ct rRNA_shannon_score\n",
              "1 0.7477                 1.9147            \n",
              "2 0.7775                 1.9350            \n",
              "3 0.8011                 1.9811            \n",
              "4 0.8325                 1.9908            \n",
              "5 0.8302                 1.9900            \n",
              "6 0.7781                 1.9205            "
            ]
          },
          "metadata": {}
        },
        {
          "output_type": "stream",
          "name": "stdout",
          "text": [
            "Classes ‘data.table’ and 'data.frame':\t363 obs. of  79 variables:\n",
            " $ Outcome                          : Factor w/ 2 levels \"Archaea\",\"Bacteria\": 1 1 1 1 1 1 1 1 1 1 ...\n",
            " $ ID                               : Factor w/ 363 levels \"NC_000868\",\"NC_000961\",..: 26 43 117 144 90 29 276 235 314 47 ...\n",
            " $ bp_genA                          : int  452769 500556 1129864 464438 411277 615993 540494 529142 559392 543585 ...\n",
            " $ bp_genT                          : int  452260 506542 1129640 468067 412305 610942 543513 524146 563638 543939 ...\n",
            " $ bp_genC                          : int  326684 447794 585429 215792 205756 481744 963601 944176 1118858 954961 ...\n",
            " $ bp_genG                          : int  328909 447051 585773 211779 202790 487587 964652 942764 1112766 952786 ...\n",
            " $ bp_genome_total                  : int  1560622 1901943 3430706 1360076 1232128 2196266 3012260 2940228 3354654 2995271 ...\n",
            " $ fr_genA                          : num  0.29 0.26 0.33 0.34 0.33 0.28 0.18 0.18 0.17 0.18 ...\n",
            " $ fr_genT                          : num  0.29 0.27 0.33 0.34 0.33 0.28 0.18 0.18 0.17 0.18 ...\n",
            " $ fr_genC                          : num  0.21 0.24 0.17 0.16 0.17 0.22 0.32 0.32 0.33 0.32 ...\n",
            " $ fr_genG                          : num  0.21 0.24 0.17 0.16 0.16 0.22 0.32 0.32 0.33 0.32 ...\n",
            " $ genomic_topological_entropy_score: num  0.95 0.954 0.941 0.927 0.932 ...\n",
            " $ genomic_chargaff_score_pf        : num  0.004 0.0068 0.0004 0.0133 0.0085 0.0101 0.0033 0.0055 0.0065 0.0015 ...\n",
            " $ genomic_chargaff_score_ct        : num  0.996 0.993 1 0.987 0.992 ...\n",
            " $ genomic_shannon_score            : num  1.98 2 1.93 1.9 1.92 ...\n",
            " $ n_cds_plus                       : int  844 1022 1233 659 620 1251 1481 1434 1725 1476 ...\n",
            " $ n_cds_minus                      : int  896 977 1228 710 635 1120 1396 1407 1643 1552 ...\n",
            " $ n_cds_total                      : int  1740 1999 2461 1369 1255 2371 2877 2841 3368 3028 ...\n",
            " $ bp_cdsA                          : int  436675 470520 622857 380779 368319 593135 491296 470853 500557 505090 ...\n",
            " $ bp_cdsT                          : int  362376 374570 512197 298697 283424 463241 421434 399308 425378 423645 ...\n",
            " $ bp_cdsC                          : int  229525 336021 287531 137972 142574 352005 811981 801724 965415 849392 ...\n",
            " $ bp_cdsG                          : int  357400 442921 347436 181168 183947 504137 874198 832245 952479 851916 ...\n",
            " $ bp_cds_total                     : int  1385976 1624032 1770021 998616 978264 1912518 2598909 2504130 2843829 2630043 ...\n",
            " $ fr_cdsA                          : num  0.32 0.29 0.36 0.39 0.38 0.31 0.19 0.19 0.18 0.19 ...\n",
            " $ fr_cdsT                          : num  0.26 0.23 0.29 0.3 0.29 0.24 0.16 0.16 0.15 0.16 ...\n",
            " $ fr_cdsC                          : num  0.16 0.2 0.16 0.14 0.14 0.18 0.31 0.32 0.34 0.32 ...\n",
            " $ fr_cdsG                          : num  0.26 0.27 0.2 0.18 0.19 0.26 0.34 0.33 0.33 0.32 ...\n",
            " $ cds_topological_entropy_score    : num  0.898 0.904 0.89 0.872 0.88 ...\n",
            " $ cds_chargaff_score_pf            : num  0.353 0.305 0.249 0.301 0.299 ...\n",
            " $ cds_chargaff_score_ct            : num  0.714 0.744 0.788 0.75 0.75 ...\n",
            " $ cds_shannon_score                : num  1.95 1.97 1.92 1.87 1.89 ...\n",
            " $ n_ncRNA_plus                     : int  1 1 1 1 1 1 1 1 1 1 ...\n",
            " $ n_ncRNA_minus                    : int  1 1 1 1 1 1 1 1 1 1 ...\n",
            " $ n_ncRNA_total                    : int  2 2 2 2 2 2 2 2 2 2 ...\n",
            " $ bp_ncRNA_A                       : int  116 109 173 181 177 105 127 139 129 140 ...\n",
            " $ bp_ncRNA_T                       : int  68 76 147 122 121 66 78 78 89 98 ...\n",
            " $ bp_ncRNA_C                       : int  167 166 112 123 123 168 255 239 234 266 ...\n",
            " $ bp_ncRNA_G                       : int  209 212 175 166 171 219 286 260 256 284 ...\n",
            " $ bp_ncRNA_total                   : int  560 563 607 592 592 558 746 716 708 788 ...\n",
            " $ fr_ncRNA_A                       : num  0.21 0.2 0.29 0.31 0.3 0.19 0.17 0.19 0.18 0.18 ...\n",
            " $ fr_ncRNA_T                       : num  0.12 0.13 0.24 0.2 0.2 0.12 0.11 0.11 0.13 0.13 ...\n",
            " $ fr_ncRNA_C                       : num  0.3 0.29 0.18 0.21 0.21 0.3 0.34 0.34 0.33 0.33 ...\n",
            " $ fr_ncRNA_G                       : num  0.37 0.37 0.29 0.28 0.29 0.39 0.39 0.37 0.36 0.36 ...\n",
            " $ ncRNA_topological_entropy_score  : num  0.855 0.862 0.907 0.902 0.901 ...\n",
            " $ ncRNA_chargaff_score_pf          : num  0.375 0.396 0.362 0.342 0.351 ...\n",
            " $ ncRNA_chargaff_score_ct          : num  0.703 0.695 0.701 0.725 0.707 ...\n",
            " $ ncRNA_shannon_score              : num  1.88 1.88 1.96 1.97 1.97 ...\n",
            " $ n_tRNA_plus                      : int  24 23 22 14 20 21 20 27 24 26 ...\n",
            " $ n_tRNA_minus                     : int  23 23 23 29 22 28 27 20 24 22 ...\n",
            " $ n_tRNA_total                     : int  47 46 45 43 42 49 47 47 48 48 ...\n",
            " $ bp_tRNA_A                        : int  535 534 641 662 625 559 621 617 638 648 ...\n",
            " $ bp_tRNA_T                        : int  593 574 725 757 716 596 676 677 711 711 ...\n",
            " $ bp_tRNA_C                        : int  1156 1109 992 891 895 1196 1062 1073 1086 1086 ...\n",
            " $ bp_tRNA_G                        : int  1282 1248 1096 997 993 1348 1185 1174 1197 1191 ...\n",
            " $ bp_tRNA_total                    : int  3566 3465 3454 3307 3229 3699 3544 3541 3632 3636 ...\n",
            " $ fr_tRNA_A                        : num  0.15 0.15 0.19 0.2 0.2 0.15 0.18 0.17 0.18 0.18 ...\n",
            " $ fr_tRNA_T                        : num  0.17 0.16 0.2 0.23 0.22 0.16 0.19 0.19 0.2 0.19 ...\n",
            " $ fr_tRNA_C                        : num  0.32 0.32 0.28 0.27 0.28 0.32 0.3 0.3 0.3 0.3 ...\n",
            " $ fr_tRNA_G                        : num  0.36 0.36 0.33 0.3 0.31 0.36 0.33 0.33 0.33 0.33 ...\n",
            " $ tRNA_topological_entropy_score   : num  0.864 0.86 0.813 0.878 0.87 ...\n",
            " $ tRNA_chargaff_score_pf           : num  0.183 0.204 0.331 0.24 0.244 ...\n",
            " $ tRNA_chargaff_score_ct           : num  0.84 0.826 0.741 0.799 0.794 ...\n",
            " $ tRNA_shannon_score               : num  1.89 1.89 1.92 1.96 1.95 ...\n",
            " $ n_rRNA_plus                      : int  1 2 4 2 2 2 3 3 3 3 ...\n",
            " $ n_rRNA_minus                     : int  2 1 3 1 1 1 3 3 3 3 ...\n",
            " $ n_rRNA_total                     : int  3 3 7 3 3 3 6 6 6 6 ...\n",
            " $ bp_rRNA_A                        : int  955 970 3463 1250 1251 943 2140 2131 2226 2259 ...\n",
            " $ bp_rRNA_T                        : int  659 689 2806 1028 1047 672 1501 1585 1627 1662 ...\n",
            " $ bp_rRNA_C                        : int  1316 1274 3039 981 961 1321 2393 2418 2345 2312 ...\n",
            " $ bp_rRNA_G                        : int  1680 1640 4083 1329 1338 1677 3022 2916 2838 2819 ...\n",
            " $ bp_rRNA_total                    : int  4610 4573 13391 4588 4597 4613 9056 9050 9036 9052 ...\n",
            " $ fr_rRNA_A                        : num  0.21 0.21 0.25 0.26 0.26 0.2 0.24 0.22 0.23 0.23 ...\n",
            " $ fr_rRNA_T                        : num  0.14 0.16 0.2 0.23 0.23 0.15 0.16 0.16 0.17 0.17 ...\n",
            " $ fr_rRNA_C                        : num  0.29 0.28 0.24 0.23 0.23 0.3 0.27 0.3 0.28 0.28 ...\n",
            " $ fr_rRNA_G                        : num  0.36 0.35 0.31 0.29 0.29 0.36 0.33 0.32 0.32 0.32 ...\n",
            " $ rRNA_topological_entropy_score   : num  0.886 0.891 0.918 0.925 0.915 ...\n",
            " $ rRNA_chargaff_score_pf           : num  0.294 0.253 0.224 0.187 0.191 ...\n",
            " $ rRNA_chargaff_score_ct           : num  0.748 0.777 0.801 0.833 0.83 ...\n",
            " $ rRNA_shannon_score               : num  1.91 1.94 1.98 1.99 1.99 ...\n",
            " - attr(*, \".internal.selfref\")=<externalptr> \n"
          ]
        }
      ],
      "source": [
        "dataset <- fread(input_file, dec = \".\", na.strings = c(\".\", \"-\", \"NA\"), stringsAsFactors = TRUE)\n",
        "dim(dataset)\n",
        "head(dataset)\n",
        "str(dataset)"
      ]
    },
    {
      "cell_type": "markdown",
      "id": "78e6443f-fb31-4b49-9868-8b0712edf64c",
      "metadata": {
        "id": "78e6443f-fb31-4b49-9868-8b0712edf64c"
      },
      "source": [
        "## Dataset preprocessing : missing values\n",
        "This workflow works only with complete datasets (no missing values), so sanity check before running the analysis in required.\n"
      ]
    },
    {
      "cell_type": "code",
      "execution_count": 6,
      "id": "f5a027c8-b00c-4cd6-adf5-17a37296335e",
      "metadata": {
        "vscode": {
          "languageId": "r"
        },
        "id": "f5a027c8-b00c-4cd6-adf5-17a37296335e",
        "outputId": "f53d862c-d2e7-4207-b967-3780c3ff8cb5",
        "colab": {
          "base_uri": "https://localhost:8080/"
        }
      },
      "outputs": [
        {
          "output_type": "stream",
          "name": "stdout",
          "text": [
            "[1] \"No missing data in the dataset: OK! Go to 'Dataset preprocessing : descriptive statistics'\"\n"
          ]
        }
      ],
      "source": [
        "# Sanity check\n",
        "\n",
        "if (sum(is.na(dataset)) == 0) {\n",
        "  print(\"No missing data in the dataset: OK! Go to 'Dataset preprocessing : descriptive statistics'\")\n",
        "} else {\n",
        "  print(\"Missing data in the dataset: please remove them! Go to 'Keep only complete records' cell\")\n",
        "}"
      ]
    },
    {
      "cell_type": "markdown",
      "id": "054c9918-8945-436b-93bf-1ec3c6f4d63e",
      "metadata": {
        "id": "054c9918-8945-436b-93bf-1ec3c6f4d63e"
      },
      "source": [
        "If there are no missing values, proceed with the analysis.\n",
        "If missing values are detected after the sanity check, please remove them with the appropriate code using complete.cases()."
      ]
    },
    {
      "cell_type": "code",
      "execution_count": 7,
      "id": "0e58a727-0fde-4006-91d0-63c755e72aeb",
      "metadata": {
        "vscode": {
          "languageId": "r"
        },
        "id": "0e58a727-0fde-4006-91d0-63c755e72aeb",
        "outputId": "cbe4ad8c-d919-45c0-e8bc-fb9deef8c34f",
        "colab": {
          "base_uri": "https://localhost:8080/",
          "height": 34
        }
      },
      "outputs": [
        {
          "output_type": "display_data",
          "data": {
            "text/html": [
              "<style>\n",
              ".list-inline {list-style: none; margin:0; padding: 0}\n",
              ".list-inline>li {display: inline-block}\n",
              ".list-inline>li:not(:last-child)::after {content: \"\\00b7\"; padding: 0 .5ex}\n",
              "</style>\n",
              "<ol class=list-inline><li>363</li><li>79</li></ol>\n"
            ],
            "text/markdown": "1. 363\n2. 79\n\n\n",
            "text/latex": "\\begin{enumerate*}\n\\item 363\n\\item 79\n\\end{enumerate*}\n",
            "text/plain": [
              "[1] 363  79"
            ]
          },
          "metadata": {}
        }
      ],
      "source": [
        "# Keep only complete records and check dataset dimension\n",
        "\n",
        "dataset <- dataset[complete.cases(dataset), ]\n",
        "dim(dataset)"
      ]
    },
    {
      "cell_type": "markdown",
      "id": "d79bcb21-0c1d-4ae7-ac5c-2fa14dad97dd",
      "metadata": {
        "id": "d79bcb21-0c1d-4ae7-ac5c-2fa14dad97dd"
      },
      "source": [
        "## Dataset preprocessing : descriptive statistics\n",
        "Descriptive statistics (frequencies or distribution) of all variables.\n"
      ]
    },
    {
      "cell_type": "code",
      "execution_count": 8,
      "id": "134d546b-3988-4bf2-906f-4f4d3cc8bf64",
      "metadata": {
        "vscode": {
          "languageId": "r"
        },
        "id": "134d546b-3988-4bf2-906f-4f4d3cc8bf64",
        "outputId": "cdcb38d4-6c6c-4c6f-b9ec-125863071ba5",
        "colab": {
          "base_uri": "https://localhost:8080/",
          "height": 1000
        }
      },
      "outputs": [
        {
          "output_type": "display_data",
          "data": {
            "text/plain": [
              "     Outcome            ID         bp_genA           bp_genT       \n",
              " Archaea :109   NC_000868:  1   Min.   : 209417   Min.   : 205352  \n",
              " Bacteria:254   NC_000961:  1   1st Qu.: 579840   1st Qu.: 579332  \n",
              "                NC_003106:  1   Median : 792628   Median : 789428  \n",
              "                NC_003155:  1   Mean   : 892227   Mean   : 892473  \n",
              "                NC_003551:  1   3rd Qu.:1143596   3rd Qu.:1146912  \n",
              "                NC_003552:  1   Max.   :2053795   Max.   :2065245  \n",
              "                (Other)  :357                                      \n",
              "    bp_genC           bp_genG        bp_genome_total       fr_genA     \n",
              " Min.   : 116577   Min.   : 114184   Min.   :  847967   Min.   :0.130  \n",
              " 1st Qu.: 528144   1st Qu.: 530260   1st Qu.: 2606698   1st Qu.:0.190  \n",
              " Median : 944176   Median : 942764   Median : 3456765   Median :0.240  \n",
              " Mean   :1023610   Mean   :1023380   Mean   : 3833979   Mean   :0.245  \n",
              " 3rd Qu.:1279536   3rd Qu.:1278796   3rd Qu.: 4782806   3rd Qu.:0.300  \n",
              " Max.   :5241445   Max.   :5238878   Max.   :14555308   Max.   :0.380  \n",
              "                                                                       \n",
              "    fr_genT         fr_genC          fr_genG      \n",
              " Min.   :0.130   Min.   :0.1200   Min.   :0.1200  \n",
              " 1st Qu.:0.180   1st Qu.:0.2000   1st Qu.:0.2000  \n",
              " Median :0.240   Median :0.2600   Median :0.2600  \n",
              " Mean   :0.245   Mean   :0.2547   Mean   :0.2547  \n",
              " 3rd Qu.:0.300   3rd Qu.:0.3150   3rd Qu.:0.3200  \n",
              " Max.   :0.380   Max.   :0.3700   Max.   :0.3700  \n",
              "                                                  \n",
              " genomic_topological_entropy_score genomic_chargaff_score_pf\n",
              " Min.   :0.6021                    Min.   :0.000300         \n",
              " 1st Qu.:0.9293                    1st Qu.:0.002700         \n",
              " Median :0.9425                    Median :0.004600         \n",
              " Mean   :0.9342                    Mean   :0.006883         \n",
              " 3rd Qu.:0.9503                    3rd Qu.:0.008050         \n",
              " Max.   :0.9603                    Max.   :0.093700         \n",
              "                                                            \n",
              " genomic_chargaff_score_ct genomic_shannon_score   n_cds_plus    n_cds_minus  \n",
              " Min.   :0.9114            Min.   :1.802         Min.   : 320   Min.   : 286  \n",
              " 1st Qu.:0.9919            1st Qu.:1.926         1st Qu.:1104   1st Qu.:1093  \n",
              " Median :0.9954            Median :1.964         Median :1530   Median :1550  \n",
              " Mean   :0.9932            Mean   :1.953         Mean   :1632   Mean   :1641  \n",
              " 3rd Qu.:0.9973            3rd Qu.:1.987         3rd Qu.:2009   3rd Qu.:2010  \n",
              " Max.   :0.9997            Max.   :2.000         Max.   :4992   Max.   :5068  \n",
              "                                                                              \n",
              "  n_cds_total       bp_cdsA           bp_cdsT           bp_cdsC       \n",
              " Min.   :  690   Min.   : 183535   Min.   : 142985   Min.   :  88637  \n",
              " 1st Qu.: 2210   1st Qu.: 502091   1st Qu.: 448095   1st Qu.: 384492  \n",
              " Median : 3117   Median : 641947   Median : 582840   Median : 748278  \n",
              " Mean   : 3274   Mean   : 735947   Mean   : 671663   Mean   : 824398  \n",
              " 3rd Qu.: 4047   3rd Qu.: 937624   3rd Qu.: 875300   3rd Qu.:1056311  \n",
              " Max.   :10060   Max.   :1690486   Max.   :1665433   Max.   :4314746  \n",
              "                                                                      \n",
              "    bp_cdsG         bp_cds_total         fr_cdsA          fr_cdsT     \n",
              " Min.   : 114504   Min.   :  702066   Min.   :0.1400   Min.   :0.130  \n",
              " 1st Qu.: 472811   1st Qu.: 2036152   1st Qu.:0.1900   1st Qu.:0.180  \n",
              " Median : 803848   Median : 2839722   Median :0.2500   Median :0.230  \n",
              " Mean   : 876564   Mean   : 3108572   Mean   :0.2569   Mean   :0.229  \n",
              " 3rd Qu.:1093906   3rd Qu.: 3853870   3rd Qu.:0.3100   3rd Qu.:0.270  \n",
              " Max.   :4386107   Max.   :12056772   Max.   :0.4300   Max.   :0.330  \n",
              "                                                                      \n",
              "    fr_cdsC          fr_cdsG       cds_topological_entropy_score\n",
              " Min.   :0.1000   Min.   :0.1400   Min.   :0.8562               \n",
              " 1st Qu.:0.1800   1st Qu.:0.2300   1st Qu.:0.8807               \n",
              " Median :0.2500   Median :0.2700   Median :0.8956               \n",
              " Mean   :0.2444   Mean   :0.2694   Mean   :0.8911               \n",
              " 3rd Qu.:0.3150   3rd Qu.:0.3200   3rd Qu.:0.9028               \n",
              " Max.   :0.3800   Max.   :0.3600   Max.   :0.9126               \n",
              "                                                                \n",
              " cds_chargaff_score_pf cds_chargaff_score_ct cds_shannon_score  n_ncRNA_plus   \n",
              " Min.   :0.1280        Min.   :0.6408        Min.   :1.782     Min.   : 1.000  \n",
              " 1st Qu.:0.1608        1st Qu.:0.7942        1st Qu.:1.908     1st Qu.: 1.000  \n",
              " Median :0.1906        Median :0.8358        Median :1.949     Median : 1.000  \n",
              " Mean   :0.2107        Mean   :0.8196        Mean   :1.936     Mean   : 1.689  \n",
              " 3rd Qu.:0.2399        3rd Qu.:0.8582        3rd Qu.:1.970     3rd Qu.: 2.000  \n",
              " Max.   :0.4617        Max.   :0.8861        Max.   :1.988     Max.   :18.000  \n",
              "                                                                               \n",
              " n_ncRNA_minus    n_ncRNA_total      bp_ncRNA_A    bp_ncRNA_T    bp_ncRNA_C   \n",
              " Min.   : 1.000   Min.   : 2.000   Min.   : 84   Min.   : 46   Min.   : 58.0  \n",
              " 1st Qu.: 1.000   1st Qu.: 2.000   1st Qu.:129   1st Qu.: 95   1st Qu.:149.0  \n",
              " Median : 1.000   Median : 3.000   Median :148   Median :118   Median :171.0  \n",
              " Mean   : 1.636   Mean   : 3.325   Mean   :167   Mean   :135   Mean   :193.4  \n",
              " 3rd Qu.: 2.000   3rd Qu.: 3.000   3rd Qu.:183   3rd Qu.:158   3rd Qu.:215.5  \n",
              " Max.   :12.000   Max.   :21.000   Max.   :699   Max.   :468   Max.   :868.0  \n",
              "                                                                              \n",
              "   bp_ncRNA_G    bp_ncRNA_total     fr_ncRNA_A       fr_ncRNA_T    \n",
              " Min.   : 80.0   Min.   : 362.0   Min.   :0.1300   Min.   :0.0800  \n",
              " 1st Qu.:187.0   1st Qu.: 610.0   1st Qu.:0.1900   1st Qu.:0.1500  \n",
              " Median :214.0   Median : 660.0   Median :0.2200   Median :0.1900  \n",
              " Mean   :234.9   Mean   : 730.3   Mean   :0.2231   Mean   :0.1911  \n",
              " 3rd Qu.:264.0   3rd Qu.: 782.5   3rd Qu.:0.2500   3rd Qu.:0.2300  \n",
              " Max.   :908.0   Max.   :2943.0   Max.   :0.3300   Max.   :0.3600  \n",
              "                                                                   \n",
              "   fr_ncRNA_C       fr_ncRNA_G     ncRNA_topological_entropy_score\n",
              " Min.   :0.1300   Min.   :0.1900   Min.   :0.8077                 \n",
              " 1st Qu.:0.2300   1st Qu.:0.2900   1st Qu.:0.8769                 \n",
              " Median :0.2700   Median :0.3200   Median :0.8880                 \n",
              " Mean   :0.2648   Mean   :0.3205   Mean   :0.8856                 \n",
              " 3rd Qu.:0.3100   3rd Qu.:0.3500   3rd Qu.:0.8972                 \n",
              " Max.   :0.3600   Max.   :0.4300   Max.   :0.9197                 \n",
              "                                                                  \n",
              " ncRNA_chargaff_score_pf ncRNA_chargaff_score_ct ncRNA_shannon_score\n",
              " Min.   :0.1099          Min.   :0.6550          Min.   :1.718      \n",
              " 1st Qu.:0.2034          1st Qu.:0.7699          1st Qu.:1.911      \n",
              " Median :0.2352          Median :0.7977          Median :1.953      \n",
              " Mean   :0.2402          Mean   :0.7947          Mean   :1.937      \n",
              " 3rd Qu.:0.2733          3rd Qu.:0.8237          3rd Qu.:1.974      \n",
              " Max.   :0.4348          Max.   :0.8997          Max.   :1.991      \n",
              "                                                                    \n",
              "  n_tRNA_plus      n_tRNA_minus    n_tRNA_total     bp_tRNA_A     \n",
              " Min.   :  8.00   Min.   : 4.00   Min.   : 19.0   Min.   : 229.0  \n",
              " 1st Qu.: 23.00   1st Qu.:22.00   1st Qu.: 47.0   1st Qu.: 656.0  \n",
              " Median : 26.00   Median :27.00   Median : 53.0   Median : 784.0  \n",
              " Mean   : 29.71   Mean   :29.18   Mean   : 58.9   Mean   : 867.7  \n",
              " 3rd Qu.: 34.00   3rd Qu.:34.00   3rd Qu.: 66.0   3rd Qu.: 991.0  \n",
              " Max.   :112.00   Max.   :96.00   Max.   :170.0   Max.   :2629.0  \n",
              "                                                                  \n",
              "   bp_tRNA_T        bp_tRNA_C      bp_tRNA_G    bp_tRNA_total  \n",
              " Min.   : 232.0   Min.   : 496   Min.   : 522   Min.   : 1504  \n",
              " 1st Qu.: 743.5   1st Qu.:1062   1st Qu.:1196   1st Qu.: 3646  \n",
              " Median : 871.0   Median :1190   Median :1309   Median : 4116  \n",
              " Mean   : 955.9   Mean   :1288   Mean   :1446   Mean   : 4557  \n",
              " 3rd Qu.:1096.0   3rd Qu.:1438   3rd Qu.:1610   3rd Qu.: 5102  \n",
              " Max.   :2849.0   Max.   :3715   Max.   :4149   Max.   :13342  \n",
              "                                                               \n",
              "   fr_tRNA_A        fr_tRNA_T        fr_tRNA_C        fr_tRNA_G     \n",
              " Min.   :0.1400   Min.   :0.1300   Min.   :0.2400   Min.   :0.2800  \n",
              " 1st Qu.:0.1800   1st Qu.:0.2000   1st Qu.:0.2700   1st Qu.:0.3100  \n",
              " Median :0.1900   Median :0.2100   Median :0.2800   Median :0.3200  \n",
              " Mean   :0.1889   Mean   :0.2081   Mean   :0.2844   Mean   :0.3192  \n",
              " 3rd Qu.:0.2000   3rd Qu.:0.2200   3rd Qu.:0.2900   3rd Qu.:0.3300  \n",
              " Max.   :0.2300   Max.   :0.2500   Max.   :0.3600   Max.   :0.3700  \n",
              "                                                                    \n",
              " tRNA_topological_entropy_score tRNA_chargaff_score_pf tRNA_chargaff_score_ct\n",
              " Min.   :0.8100                 Min.   :0.1114         Min.   :0.7408        \n",
              " 1st Qu.:0.8811                 1st Qu.:0.1482         1st Qu.:0.8299        \n",
              " Median :0.8868                 Median :0.1644         Median :0.8544        \n",
              " Mean   :0.8822                 Mean   :0.1712         Mean   :0.8493        \n",
              " 3rd Qu.:0.8892                 3rd Qu.:0.1945         3rd Qu.:0.8678        \n",
              " Max.   :0.8962                 Max.   :0.3313         Max.   :0.8979        \n",
              "                                                                             \n",
              " tRNA_shannon_score  n_rRNA_plus      n_rRNA_minus    n_rRNA_total  \n",
              " Min.   :1.832      Min.   : 1.000   Min.   : 1.00   Min.   : 3.00  \n",
              " 1st Qu.:1.945      1st Qu.: 3.000   1st Qu.: 3.00   1st Qu.: 6.00  \n",
              " Median :1.960      Median : 6.000   Median : 6.00   Median :11.00  \n",
              " Mean   :1.951      Mean   : 6.807   Mean   : 6.11   Mean   :12.92  \n",
              " 3rd Qu.:1.968      3rd Qu.: 9.000   3rd Qu.: 8.50   3rd Qu.:18.00  \n",
              " Max.   :1.986      Max.   :51.000   Max.   :29.00   Max.   :64.00  \n",
              "                                                                    \n",
              "   bp_rRNA_A       bp_rRNA_T       bp_rRNA_C       bp_rRNA_G    \n",
              " Min.   :  160   Min.   :  111   Min.   :  183   Min.   :  183  \n",
              " 1st Qu.: 2320   1st Qu.: 1813   1st Qu.: 2325   1st Qu.: 2866  \n",
              " Median : 4251   Median : 3232   Median : 3552   Median : 4986  \n",
              " Mean   : 4953   Mean   : 3904   Mean   : 4318   Mean   : 5993  \n",
              " 3rd Qu.: 6554   3rd Qu.: 5628   3rd Qu.: 5692   3rd Qu.: 8174  \n",
              " Max.   :25434   Max.   :18978   Max.   :23750   Max.   :31703  \n",
              "                                                                \n",
              " bp_rRNA_total     fr_rRNA_A        fr_rRNA_T        fr_rRNA_C     \n",
              " Min.   :  637   Min.   :0.1700   Min.   :0.1100   Min.   :0.1800  \n",
              " 1st Qu.: 9054   1st Qu.:0.2300   1st Qu.:0.1800   1st Qu.:0.2300  \n",
              " Median :15489   Median :0.2400   Median :0.2000   Median :0.2500  \n",
              " Mean   :19168   Mean   :0.2408   Mean   :0.1948   Mean   :0.2521  \n",
              " 3rd Qu.:27222   3rd Qu.:0.2600   3rd Qu.:0.2100   3rd Qu.:0.2700  \n",
              " Max.   :99865   Max.   :0.3300   Max.   :0.3200   Max.   :0.3300  \n",
              "                                                                   \n",
              "   fr_rRNA_G      rRNA_topological_entropy_score rRNA_chargaff_score_pf\n",
              " Min.   :0.2400   Min.   :0.8027                 Min.   :0.1399        \n",
              " 1st Qu.:0.3000   1st Qu.:0.9042                 1st Qu.:0.2149        \n",
              " Median :0.3100   Median :0.9102                 Median :0.2348        \n",
              " Mean   :0.3122   Mean   :0.9075                 Mean   :0.2399        \n",
              " 3rd Qu.:0.3200   3rd Qu.:0.9147                 3rd Qu.:0.2566        \n",
              " Max.   :0.3900   Max.   :0.9269                 Max.   :0.4427        \n",
              "                                                                       \n",
              " rRNA_chargaff_score_ct rRNA_shannon_score\n",
              " Min.   :0.6651         Min.   :1.841     \n",
              " 1st Qu.:0.7754         1st Qu.:1.961     \n",
              " Median :0.7936         Median :1.974     \n",
              " Mean   :0.7906         Mean   :1.966     \n",
              " 3rd Qu.:0.8105         3rd Qu.:1.984     \n",
              " Max.   :0.8740         Max.   :1.991     \n",
              "                                          "
            ]
          },
          "metadata": {}
        }
      ],
      "source": [
        "summary(dataset)"
      ]
    },
    {
      "cell_type": "markdown",
      "id": "4b8ea713-d4a0-431d-a8ef-1b57ea2004cc",
      "metadata": {
        "id": "4b8ea713-d4a0-431d-a8ef-1b57ea2004cc"
      },
      "source": [
        "## Machine learning analysis\n"
      ]
    },
    {
      "cell_type": "markdown",
      "id": "4a459e32-5f92-4c0b-a046-d62e6761e0ba",
      "metadata": {
        "id": "4a459e32-5f92-4c0b-a046-d62e6761e0ba"
      },
      "source": [
        "### Training/test split\n",
        "\n",
        "The dataset will be splitted into a subset used to train and validate the model, and a subset that will be used to test the model's performance\n"
      ]
    },
    {
      "cell_type": "code",
      "execution_count": 9,
      "id": "729cc61b-76cc-4718-9451-0a9becbd799b",
      "metadata": {
        "vscode": {
          "languageId": "r"
        },
        "id": "729cc61b-76cc-4718-9451-0a9becbd799b",
        "outputId": "f241a4e2-0334-415d-9d4c-41227cf82f89",
        "colab": {
          "base_uri": "https://localhost:8080/"
        }
      },
      "outputs": [
        {
          "output_type": "stream",
          "name": "stdout",
          "text": [
            "    Outcome     n\n",
            "     <fctr> <int>\n",
            "1:  Archaea    87\n",
            "2: Bacteria   203\n",
            "    Outcome     n\n",
            "     <fctr> <int>\n",
            "1:  Archaea    22\n",
            "2: Bacteria    51\n"
          ]
        }
      ],
      "source": [
        "# parameter \"split_ratio\" will be applied to choose the ratio used to split tha dataset by outcome (e.g., 80:20, 70:30)\n",
        "\n",
        "rf_dt <- select(dataset, -c(ID))\n",
        "rf_split <- initial_split(rf_dt, strata = Outcome, prop = split_ratio)\n",
        "rf_train <- training(rf_split)\n",
        "rf_test <- testing(rf_split)\n",
        "\n",
        "# Sanity check on outcome frequencies in train and test sets\n",
        "\n",
        "rf_train %>% count(Outcome) |> print()\n",
        "rf_test %>% count(Outcome) |> print()"
      ]
    },
    {
      "cell_type": "markdown",
      "id": "99d50b3c-1fe1-4c10-a51d-fc2c740f25eb",
      "metadata": {
        "id": "99d50b3c-1fe1-4c10-a51d-fc2c740f25eb"
      },
      "source": [
        "## Preprocessing\n",
        "\n",
        "We use Tidymodels to build a recipe for data preprocessing:\n",
        " -   remove correlated variables\n",
        " -   remove non informative variables (zero variance)\n",
        " -   upsampling to handle output class imbalance\n",
        " -   standardize all variables"
      ]
    },
    {
      "cell_type": "code",
      "execution_count": 10,
      "id": "29e08853-bca5-4681-8e16-6b35c10025e7",
      "metadata": {
        "vscode": {
          "languageId": "r"
        },
        "id": "29e08853-bca5-4681-8e16-6b35c10025e7",
        "outputId": "33cd48b3-3e0d-4689-a08f-4655564a6e07",
        "colab": {
          "base_uri": "https://localhost:8080/",
          "height": 844
        }
      },
      "outputs": [
        {
          "output_type": "stream",
          "name": "stderr",
          "text": [
            "\n",
            "\n",
            "\u001b[36m──\u001b[39m \u001b[1mRecipe\u001b[22m \u001b[36m──────────────────────────────────────────────────────────────────────\u001b[39m\n",
            "\n",
            "\n",
            "\n",
            "── Inputs \n",
            "\n",
            "Number of variables by role\n",
            "\n",
            "outcome:    1\n",
            "predictor: 77\n",
            "\n",
            "\n",
            "\n",
            "── Training information \n",
            "\n",
            "Training data contained 290 data points and no incomplete rows.\n",
            "\n",
            "\n",
            "\n",
            "── Operations \n",
            "\n",
            "\u001b[36m•\u001b[39m Correlation filter on: \u001b[34mbp_genT\u001b[39m, \u001b[34mbp_genG\u001b[39m, \u001b[34mfr_genG\u001b[39m, ... | \u001b[3mTrained\u001b[23m\n",
            "\n",
            "\u001b[36m•\u001b[39m Zero variance filter removed: \u001b[34m<none>\u001b[39m | \u001b[3mTrained\u001b[23m\n",
            "\n",
            "\u001b[36m•\u001b[39m Up-sampling based on: \u001b[34mOutcome\u001b[39m | \u001b[3mTrained\u001b[23m\n",
            "\n",
            "\u001b[36m•\u001b[39m Centering and scaling for: \u001b[34mbp_genA\u001b[39m \u001b[34mbp_genome_total\u001b[39m, ... | \u001b[3mTrained\u001b[23m\n",
            "\n"
          ]
        },
        {
          "output_type": "display_data",
          "data": {
            "text/html": [
              "<table class=\"dataframe\">\n",
              "<caption>A tibble: 6 × 54</caption>\n",
              "<thead>\n",
              "\t<tr><th scope=col>bp_genA</th><th scope=col>bp_genome_total</th><th scope=col>genomic_topological_entropy_score</th><th scope=col>genomic_chargaff_score_pf</th><th scope=col>genomic_shannon_score</th><th scope=col>n_cds_plus</th><th scope=col>bp_cdsA</th><th scope=col>bp_cdsT</th><th scope=col>bp_cdsC</th><th scope=col>bp_cds_total</th><th scope=col>⋯</th><th scope=col>n_rRNA_minus</th><th scope=col>bp_rRNA_C</th><th scope=col>fr_rRNA_A</th><th scope=col>fr_rRNA_T</th><th scope=col>fr_rRNA_C</th><th scope=col>fr_rRNA_G</th><th scope=col>rRNA_topological_entropy_score</th><th scope=col>rRNA_chargaff_score_pf</th><th scope=col>rRNA_shannon_score</th><th scope=col>Outcome</th></tr>\n",
              "\t<tr><th scope=col>&lt;dbl&gt;</th><th scope=col>&lt;dbl&gt;</th><th scope=col>&lt;dbl&gt;</th><th scope=col>&lt;dbl&gt;</th><th scope=col>&lt;dbl&gt;</th><th scope=col>&lt;dbl&gt;</th><th scope=col>&lt;dbl&gt;</th><th scope=col>&lt;dbl&gt;</th><th scope=col>&lt;dbl&gt;</th><th scope=col>&lt;dbl&gt;</th><th scope=col>⋯</th><th scope=col>&lt;dbl&gt;</th><th scope=col>&lt;dbl&gt;</th><th scope=col>&lt;dbl&gt;</th><th scope=col>&lt;dbl&gt;</th><th scope=col>&lt;dbl&gt;</th><th scope=col>&lt;dbl&gt;</th><th scope=col>&lt;dbl&gt;</th><th scope=col>&lt;dbl&gt;</th><th scope=col>&lt;dbl&gt;</th><th scope=col>&lt;fct&gt;</th></tr>\n",
              "</thead>\n",
              "<tbody>\n",
              "\t<tr><td>-0.4065220</td><td> 0.2277310</td><td>-0.3322572</td><td>-0.4448418</td><td>-0.5674115</td><td> 0.5085703</td><td>-0.3318590</td><td>-0.4090785</td><td> 0.5818387</td><td> 0.2676067</td><td>⋯</td><td>-0.5469917</td><td>-0.1006228</td><td>-0.1890318</td><td>-0.9552036</td><td>1.251383</td><td>-0.184909</td><td>-1.2386295</td><td> 0.6924467</td><td>-0.4751103</td><td>Archaea</td></tr>\n",
              "\t<tr><td>-0.8724471</td><td>-0.8793641</td><td> 0.6603353</td><td> 0.4566845</td><td> 1.1543193</td><td>-1.2389916</td><td>-1.2204603</td><td>-1.2671239</td><td>-0.8974810</td><td>-1.1614138</td><td>⋯</td><td>-0.7783236</td><td>-0.9177584</td><td>-2.0700840</td><td>-2.2598720</td><td>1.891663</td><td> 2.223852</td><td>-2.3047196</td><td> 0.5500883</td><td>-2.9690121</td><td>Archaea</td></tr>\n",
              "\t<tr><td>-1.0555035</td><td>-1.2734869</td><td>-0.5276738</td><td> 0.8052747</td><td>-0.7894112</td><td>-1.3756137</td><td>-1.0091752</td><td>-1.0588217</td><td>-1.1542090</td><td>-1.2372093</td><td>⋯</td><td>-0.5469917</td><td>-0.4592982</td><td>-1.3176631</td><td>-1.6075378</td><td>1.571523</td><td> 1.420932</td><td>-1.2919340</td><td> 0.2965124</td><td>-1.6093232</td><td>Archaea</td></tr>\n",
              "\t<tr><td>-0.6433038</td><td>-0.8765091</td><td> 0.3842705</td><td>-0.2164551</td><td> 0.6708534</td><td>-0.7525568</td><td>-0.4093380</td><td>-0.5609519</td><td>-0.8224979</td><td>-0.7594915</td><td>⋯</td><td>-1.0096555</td><td>-0.9594009</td><td>-2.4462944</td><td>-1.2813707</td><td>1.571523</td><td> 2.223852</td><td>-0.9454547</td><td>-1.3027952</td><td>-2.2960002</td><td>Archaea</td></tr>\n",
              "\t<tr><td>-0.6376577</td><td>-0.9069779</td><td> 0.3408446</td><td> 1.5264957</td><td> 0.4809203</td><td>-0.7240313</td><td>-0.4317041</td><td>-0.5715759</td><td>-0.8608852</td><td>-0.7991126</td><td>⋯</td><td>-0.5469917</td><td>-0.9597938</td><td>-2.0700840</td><td>-1.6075378</td><td>1.571523</td><td> 2.223852</td><td>-2.0826175</td><td>-0.7845216</td><td>-2.3164981</td><td>Archaea</td></tr>\n",
              "\t<tr><td>-0.5657113</td><td>-0.7681145</td><td> 0.4090853</td><td> 0.3965827</td><td> 0.9101197</td><td>-0.4057469</td><td>-0.2930997</td><td>-0.5321686</td><td>-0.7426232</td><td>-0.6502247</td><td>⋯</td><td>-1.0096555</td><td>-0.9759008</td><td>-1.3176631</td><td>-1.2813707</td><td>1.251383</td><td> 1.822392</td><td>-1.2652818</td><td> 0.4099543</td><td>-1.3735982</td><td>Archaea</td></tr>\n",
              "</tbody>\n",
              "</table>\n"
            ],
            "text/markdown": "\nA tibble: 6 × 54\n\n| bp_genA &lt;dbl&gt; | bp_genome_total &lt;dbl&gt; | genomic_topological_entropy_score &lt;dbl&gt; | genomic_chargaff_score_pf &lt;dbl&gt; | genomic_shannon_score &lt;dbl&gt; | n_cds_plus &lt;dbl&gt; | bp_cdsA &lt;dbl&gt; | bp_cdsT &lt;dbl&gt; | bp_cdsC &lt;dbl&gt; | bp_cds_total &lt;dbl&gt; | ⋯ ⋯ | n_rRNA_minus &lt;dbl&gt; | bp_rRNA_C &lt;dbl&gt; | fr_rRNA_A &lt;dbl&gt; | fr_rRNA_T &lt;dbl&gt; | fr_rRNA_C &lt;dbl&gt; | fr_rRNA_G &lt;dbl&gt; | rRNA_topological_entropy_score &lt;dbl&gt; | rRNA_chargaff_score_pf &lt;dbl&gt; | rRNA_shannon_score &lt;dbl&gt; | Outcome &lt;fct&gt; |\n|---|---|---|---|---|---|---|---|---|---|---|---|---|---|---|---|---|---|---|---|---|\n| -0.4065220 |  0.2277310 | -0.3322572 | -0.4448418 | -0.5674115 |  0.5085703 | -0.3318590 | -0.4090785 |  0.5818387 |  0.2676067 | ⋯ | -0.5469917 | -0.1006228 | -0.1890318 | -0.9552036 | 1.251383 | -0.184909 | -1.2386295 |  0.6924467 | -0.4751103 | Archaea |\n| -0.8724471 | -0.8793641 |  0.6603353 |  0.4566845 |  1.1543193 | -1.2389916 | -1.2204603 | -1.2671239 | -0.8974810 | -1.1614138 | ⋯ | -0.7783236 | -0.9177584 | -2.0700840 | -2.2598720 | 1.891663 |  2.223852 | -2.3047196 |  0.5500883 | -2.9690121 | Archaea |\n| -1.0555035 | -1.2734869 | -0.5276738 |  0.8052747 | -0.7894112 | -1.3756137 | -1.0091752 | -1.0588217 | -1.1542090 | -1.2372093 | ⋯ | -0.5469917 | -0.4592982 | -1.3176631 | -1.6075378 | 1.571523 |  1.420932 | -1.2919340 |  0.2965124 | -1.6093232 | Archaea |\n| -0.6433038 | -0.8765091 |  0.3842705 | -0.2164551 |  0.6708534 | -0.7525568 | -0.4093380 | -0.5609519 | -0.8224979 | -0.7594915 | ⋯ | -1.0096555 | -0.9594009 | -2.4462944 | -1.2813707 | 1.571523 |  2.223852 | -0.9454547 | -1.3027952 | -2.2960002 | Archaea |\n| -0.6376577 | -0.9069779 |  0.3408446 |  1.5264957 |  0.4809203 | -0.7240313 | -0.4317041 | -0.5715759 | -0.8608852 | -0.7991126 | ⋯ | -0.5469917 | -0.9597938 | -2.0700840 | -1.6075378 | 1.571523 |  2.223852 | -2.0826175 | -0.7845216 | -2.3164981 | Archaea |\n| -0.5657113 | -0.7681145 |  0.4090853 |  0.3965827 |  0.9101197 | -0.4057469 | -0.2930997 | -0.5321686 | -0.7426232 | -0.6502247 | ⋯ | -1.0096555 | -0.9759008 | -1.3176631 | -1.2813707 | 1.251383 |  1.822392 | -1.2652818 |  0.4099543 | -1.3735982 | Archaea |\n\n",
            "text/latex": "A tibble: 6 × 54\n\\begin{tabular}{lllllllllllllllllllll}\n bp\\_genA & bp\\_genome\\_total & genomic\\_topological\\_entropy\\_score & genomic\\_chargaff\\_score\\_pf & genomic\\_shannon\\_score & n\\_cds\\_plus & bp\\_cdsA & bp\\_cdsT & bp\\_cdsC & bp\\_cds\\_total & ⋯ & n\\_rRNA\\_minus & bp\\_rRNA\\_C & fr\\_rRNA\\_A & fr\\_rRNA\\_T & fr\\_rRNA\\_C & fr\\_rRNA\\_G & rRNA\\_topological\\_entropy\\_score & rRNA\\_chargaff\\_score\\_pf & rRNA\\_shannon\\_score & Outcome\\\\\n <dbl> & <dbl> & <dbl> & <dbl> & <dbl> & <dbl> & <dbl> & <dbl> & <dbl> & <dbl> & ⋯ & <dbl> & <dbl> & <dbl> & <dbl> & <dbl> & <dbl> & <dbl> & <dbl> & <dbl> & <fct>\\\\\n\\hline\n\t -0.4065220 &  0.2277310 & -0.3322572 & -0.4448418 & -0.5674115 &  0.5085703 & -0.3318590 & -0.4090785 &  0.5818387 &  0.2676067 & ⋯ & -0.5469917 & -0.1006228 & -0.1890318 & -0.9552036 & 1.251383 & -0.184909 & -1.2386295 &  0.6924467 & -0.4751103 & Archaea\\\\\n\t -0.8724471 & -0.8793641 &  0.6603353 &  0.4566845 &  1.1543193 & -1.2389916 & -1.2204603 & -1.2671239 & -0.8974810 & -1.1614138 & ⋯ & -0.7783236 & -0.9177584 & -2.0700840 & -2.2598720 & 1.891663 &  2.223852 & -2.3047196 &  0.5500883 & -2.9690121 & Archaea\\\\\n\t -1.0555035 & -1.2734869 & -0.5276738 &  0.8052747 & -0.7894112 & -1.3756137 & -1.0091752 & -1.0588217 & -1.1542090 & -1.2372093 & ⋯ & -0.5469917 & -0.4592982 & -1.3176631 & -1.6075378 & 1.571523 &  1.420932 & -1.2919340 &  0.2965124 & -1.6093232 & Archaea\\\\\n\t -0.6433038 & -0.8765091 &  0.3842705 & -0.2164551 &  0.6708534 & -0.7525568 & -0.4093380 & -0.5609519 & -0.8224979 & -0.7594915 & ⋯ & -1.0096555 & -0.9594009 & -2.4462944 & -1.2813707 & 1.571523 &  2.223852 & -0.9454547 & -1.3027952 & -2.2960002 & Archaea\\\\\n\t -0.6376577 & -0.9069779 &  0.3408446 &  1.5264957 &  0.4809203 & -0.7240313 & -0.4317041 & -0.5715759 & -0.8608852 & -0.7991126 & ⋯ & -0.5469917 & -0.9597938 & -2.0700840 & -1.6075378 & 1.571523 &  2.223852 & -2.0826175 & -0.7845216 & -2.3164981 & Archaea\\\\\n\t -0.5657113 & -0.7681145 &  0.4090853 &  0.3965827 &  0.9101197 & -0.4057469 & -0.2930997 & -0.5321686 & -0.7426232 & -0.6502247 & ⋯ & -1.0096555 & -0.9759008 & -1.3176631 & -1.2813707 & 1.251383 &  1.822392 & -1.2652818 &  0.4099543 & -1.3735982 & Archaea\\\\\n\\end{tabular}\n",
            "text/plain": [
              "  bp_genA    bp_genome_total genomic_topological_entropy_score\n",
              "1 -0.4065220  0.2277310      -0.3322572                       \n",
              "2 -0.8724471 -0.8793641       0.6603353                       \n",
              "3 -1.0555035 -1.2734869      -0.5276738                       \n",
              "4 -0.6433038 -0.8765091       0.3842705                       \n",
              "5 -0.6376577 -0.9069779       0.3408446                       \n",
              "6 -0.5657113 -0.7681145       0.4090853                       \n",
              "  genomic_chargaff_score_pf genomic_shannon_score n_cds_plus bp_cdsA   \n",
              "1 -0.4448418                -0.5674115             0.5085703 -0.3318590\n",
              "2  0.4566845                 1.1543193            -1.2389916 -1.2204603\n",
              "3  0.8052747                -0.7894112            -1.3756137 -1.0091752\n",
              "4 -0.2164551                 0.6708534            -0.7525568 -0.4093380\n",
              "5  1.5264957                 0.4809203            -0.7240313 -0.4317041\n",
              "6  0.3965827                 0.9101197            -0.4057469 -0.2930997\n",
              "  bp_cdsT    bp_cdsC    bp_cds_total ⋯ n_rRNA_minus bp_rRNA_C  fr_rRNA_A \n",
              "1 -0.4090785  0.5818387  0.2676067   ⋯ -0.5469917   -0.1006228 -0.1890318\n",
              "2 -1.2671239 -0.8974810 -1.1614138   ⋯ -0.7783236   -0.9177584 -2.0700840\n",
              "3 -1.0588217 -1.1542090 -1.2372093   ⋯ -0.5469917   -0.4592982 -1.3176631\n",
              "4 -0.5609519 -0.8224979 -0.7594915   ⋯ -1.0096555   -0.9594009 -2.4462944\n",
              "5 -0.5715759 -0.8608852 -0.7991126   ⋯ -0.5469917   -0.9597938 -2.0700840\n",
              "6 -0.5321686 -0.7426232 -0.6502247   ⋯ -1.0096555   -0.9759008 -1.3176631\n",
              "  fr_rRNA_T  fr_rRNA_C fr_rRNA_G rRNA_topological_entropy_score\n",
              "1 -0.9552036 1.251383  -0.184909 -1.2386295                    \n",
              "2 -2.2598720 1.891663   2.223852 -2.3047196                    \n",
              "3 -1.6075378 1.571523   1.420932 -1.2919340                    \n",
              "4 -1.2813707 1.571523   2.223852 -0.9454547                    \n",
              "5 -1.6075378 1.571523   2.223852 -2.0826175                    \n",
              "6 -1.2813707 1.251383   1.822392 -1.2652818                    \n",
              "  rRNA_chargaff_score_pf rRNA_shannon_score Outcome\n",
              "1  0.6924467             -0.4751103         Archaea\n",
              "2  0.5500883             -2.9690121         Archaea\n",
              "3  0.2965124             -1.6093232         Archaea\n",
              "4 -1.3027952             -2.2960002         Archaea\n",
              "5 -0.7845216             -2.3164981         Archaea\n",
              "6  0.4099543             -1.3735982         Archaea"
            ]
          },
          "metadata": {}
        }
      ],
      "source": [
        "rf_recipe <- rf_train %>%\n",
        "  recipe(Outcome ~ .) %>%\n",
        "  step_corr(all_predictors(), threshold = 0.99) %>%\n",
        "  step_zv(all_numeric(), -all_outcomes()) %>%\n",
        "  step_upsample(Outcome, over_ratio = 1, seed = 123) %>%\n",
        "  step_normalize(all_numeric(), -all_outcomes())\n",
        "\n",
        "prep_rf <- prep(rf_recipe)\n",
        "print(prep_rf)\n",
        "\n",
        "training_set <- juice(prep_rf) # Extract transformed training set\n",
        "head(training_set)"
      ]
    },
    {
      "cell_type": "markdown",
      "id": "48af0359-8693-47b5-a569-f54091f11edc",
      "metadata": {
        "id": "48af0359-8693-47b5-a569-f54091f11edc"
      },
      "source": [
        "## Model building"
      ]
    },
    {
      "cell_type": "markdown",
      "id": "0bcf59f7-9145-4950-8c10-fb8b6e1793bf",
      "metadata": {
        "id": "0bcf59f7-9145-4950-8c10-fb8b6e1793bf"
      },
      "source": [
        "### Model training\n",
        "We now specify the structure of our model:\n",
        "-   hyperparameters to tune: `mtry` (number of features to sample for each tree) and `min_n` (minimum number of data points in a node to allow further splitting)\n",
        "-   number of trees in the forest\n",
        "-   the problem at hand (classification)\n",
        "-   the engine (R package)\n",
        "\n",
        "Then we put this in a workflow together with the preprocessing recipe."
      ]
    },
    {
      "cell_type": "code",
      "execution_count": 12,
      "id": "d6832413-a8cf-4411-a307-e11489cddd2a",
      "metadata": {
        "editable": true,
        "tags": [],
        "vscode": {
          "languageId": "r"
        },
        "id": "d6832413-a8cf-4411-a307-e11489cddd2a"
      },
      "outputs": [],
      "source": [
        "tune_spec <- rand_forest(\n",
        "  mtry = tune(),\n",
        "  trees = 500,\n",
        "  min_n = tune()\n",
        ") %>%\n",
        "  set_mode(\"classification\") %>%\n",
        "  set_engine(\"randomForest\")\n",
        "\n",
        "tune_wf <- workflow() %>%\n",
        "  add_formula(Outcome ~ .) %>%\n",
        "  add_model(tune_spec)\n"
      ]
    },
    {
      "cell_type": "markdown",
      "id": "16df3d78-f513-471c-974e-a71ebe4e629f",
      "metadata": {
        "id": "16df3d78-f513-471c-974e-a71ebe4e629f"
      },
      "source": [
        "### Tuning of hyperparameters\n",
        "We use k-fold cross-validation to tune the hyperparameters in the training set."
      ]
    },
    {
      "cell_type": "code",
      "execution_count": 13,
      "id": "dabd392b-8890-4705-98ee-3c4e76334568",
      "metadata": {
        "vscode": {
          "languageId": "r"
        },
        "id": "dabd392b-8890-4705-98ee-3c4e76334568",
        "outputId": "1b8a8b8f-58da-4f78-9586-6596c6a1e6c8",
        "colab": {
          "base_uri": "https://localhost:8080/",
          "height": 1000
        }
      },
      "outputs": [
        {
          "output_type": "stream",
          "name": "stdout",
          "text": [
            "[1] 7\n"
          ]
        },
        {
          "output_type": "display_data",
          "data": {
            "text/html": [
              "<table class=\"dataframe\">\n",
              "<caption>A tibble: 6 × 2</caption>\n",
              "<thead>\n",
              "\t<tr><th scope=col>mtry</th><th scope=col>min_n</th></tr>\n",
              "\t<tr><th scope=col>&lt;int&gt;</th><th scope=col>&lt;int&gt;</th></tr>\n",
              "</thead>\n",
              "<tbody>\n",
              "\t<tr><td> 2</td><td>2</td></tr>\n",
              "\t<tr><td> 4</td><td>2</td></tr>\n",
              "\t<tr><td> 7</td><td>2</td></tr>\n",
              "\t<tr><td> 9</td><td>2</td></tr>\n",
              "\t<tr><td>12</td><td>2</td></tr>\n",
              "\t<tr><td> 2</td><td>4</td></tr>\n",
              "</tbody>\n",
              "</table>\n"
            ],
            "text/markdown": "\nA tibble: 6 × 2\n\n| mtry &lt;int&gt; | min_n &lt;int&gt; |\n|---|---|\n|  2 | 2 |\n|  4 | 2 |\n|  7 | 2 |\n|  9 | 2 |\n| 12 | 2 |\n|  2 | 4 |\n\n",
            "text/latex": "A tibble: 6 × 2\n\\begin{tabular}{ll}\n mtry & min\\_n\\\\\n <int> & <int>\\\\\n\\hline\n\t  2 & 2\\\\\n\t  4 & 2\\\\\n\t  7 & 2\\\\\n\t  9 & 2\\\\\n\t 12 & 2\\\\\n\t  2 & 4\\\\\n\\end{tabular}\n",
            "text/plain": [
              "  mtry min_n\n",
              "1  2   2    \n",
              "2  4   2    \n",
              "3  7   2    \n",
              "4  9   2    \n",
              "5 12   2    \n",
              "6  2   4    "
            ]
          },
          "metadata": {}
        },
        {
          "output_type": "display_data",
          "data": {
            "text/html": [
              "25"
            ],
            "text/markdown": "25",
            "text/latex": "25",
            "text/plain": [
              "[1] 25"
            ]
          },
          "metadata": {}
        },
        {
          "output_type": "stream",
          "name": "stdout",
          "text": [
            "\u001b[90m# A tibble: 75 × 8\u001b[39m\n",
            "    mtry min_n .metric  .estimator  mean     n std_err .config              \n",
            "   \u001b[3m\u001b[90m<int>\u001b[39m\u001b[23m \u001b[3m\u001b[90m<int>\u001b[39m\u001b[23m \u001b[3m\u001b[90m<chr>\u001b[39m\u001b[23m    \u001b[3m\u001b[90m<chr>\u001b[39m\u001b[23m      \u001b[3m\u001b[90m<dbl>\u001b[39m\u001b[23m \u001b[3m\u001b[90m<int>\u001b[39m\u001b[23m   \u001b[3m\u001b[90m<dbl>\u001b[39m\u001b[23m \u001b[3m\u001b[90m<chr>\u001b[39m\u001b[23m                \n",
            "\u001b[90m 1\u001b[39m     2     2 accuracy binary     0.998    30 0.001\u001b[4m1\u001b[24m\u001b[4m3\u001b[24m Preprocessor1_Model01\n",
            "\u001b[90m 2\u001b[39m     2     2 mcc      binary     0.997    30 0.002\u001b[4m2\u001b[24m\u001b[4m1\u001b[24m Preprocessor1_Model01\n",
            "\u001b[90m 3\u001b[39m     2     2 roc_auc  binary     1        30 0       Preprocessor1_Model01\n",
            "\u001b[90m 4\u001b[39m     4     2 accuracy binary     0.998    30 0.001\u001b[4m1\u001b[24m\u001b[4m4\u001b[24m Preprocessor1_Model02\n",
            "\u001b[90m 5\u001b[39m     4     2 mcc      binary     0.997    30 0.002\u001b[4m4\u001b[24m\u001b[4m2\u001b[24m Preprocessor1_Model02\n",
            "\u001b[90m 6\u001b[39m     4     2 roc_auc  binary     1        30 0       Preprocessor1_Model02\n",
            "\u001b[90m 7\u001b[39m     7     2 accuracy binary     1        30 0       Preprocessor1_Model03\n",
            "\u001b[90m 8\u001b[39m     7     2 mcc      binary     1        30 0       Preprocessor1_Model03\n",
            "\u001b[90m 9\u001b[39m     7     2 roc_auc  binary     1        30 0       Preprocessor1_Model03\n",
            "\u001b[90m10\u001b[39m     9     2 accuracy binary     1        30 0       Preprocessor1_Model04\n",
            "\u001b[90m# ℹ 65 more rows\u001b[39m\n"
          ]
        },
        {
          "output_type": "stream",
          "name": "stderr",
          "text": [
            "Warning message:\n",
            "“\u001b[1m\u001b[22mUsing `size` aesthetic for lines was deprecated in ggplot2 3.4.0.\n",
            "\u001b[36mℹ\u001b[39m Please use `linewidth` instead.”\n"
          ]
        },
        {
          "output_type": "display_data",
          "data": {
            "text/html": [
              "<table class=\"dataframe\">\n",
              "<caption>A tibble: 5 × 8</caption>\n",
              "<thead>\n",
              "\t<tr><th scope=col>mtry</th><th scope=col>min_n</th><th scope=col>.metric</th><th scope=col>.estimator</th><th scope=col>mean</th><th scope=col>n</th><th scope=col>std_err</th><th scope=col>.config</th></tr>\n",
              "\t<tr><th scope=col>&lt;int&gt;</th><th scope=col>&lt;int&gt;</th><th scope=col>&lt;chr&gt;</th><th scope=col>&lt;chr&gt;</th><th scope=col>&lt;dbl&gt;</th><th scope=col>&lt;int&gt;</th><th scope=col>&lt;dbl&gt;</th><th scope=col>&lt;chr&gt;</th></tr>\n",
              "</thead>\n",
              "<tbody>\n",
              "\t<tr><td>7</td><td>2</td><td>mcc</td><td>binary</td><td>1</td><td>30</td><td>0</td><td>Preprocessor1_Model03</td></tr>\n",
              "\t<tr><td>9</td><td>2</td><td>mcc</td><td>binary</td><td>1</td><td>30</td><td>0</td><td>Preprocessor1_Model04</td></tr>\n",
              "\t<tr><td>7</td><td>4</td><td>mcc</td><td>binary</td><td>1</td><td>30</td><td>0</td><td>Preprocessor1_Model08</td></tr>\n",
              "\t<tr><td>9</td><td>4</td><td>mcc</td><td>binary</td><td>1</td><td>30</td><td>0</td><td>Preprocessor1_Model09</td></tr>\n",
              "\t<tr><td>9</td><td>6</td><td>mcc</td><td>binary</td><td>1</td><td>30</td><td>0</td><td>Preprocessor1_Model14</td></tr>\n",
              "</tbody>\n",
              "</table>\n"
            ],
            "text/markdown": "\nA tibble: 5 × 8\n\n| mtry &lt;int&gt; | min_n &lt;int&gt; | .metric &lt;chr&gt; | .estimator &lt;chr&gt; | mean &lt;dbl&gt; | n &lt;int&gt; | std_err &lt;dbl&gt; | .config &lt;chr&gt; |\n|---|---|---|---|---|---|---|---|\n| 7 | 2 | mcc | binary | 1 | 30 | 0 | Preprocessor1_Model03 |\n| 9 | 2 | mcc | binary | 1 | 30 | 0 | Preprocessor1_Model04 |\n| 7 | 4 | mcc | binary | 1 | 30 | 0 | Preprocessor1_Model08 |\n| 9 | 4 | mcc | binary | 1 | 30 | 0 | Preprocessor1_Model09 |\n| 9 | 6 | mcc | binary | 1 | 30 | 0 | Preprocessor1_Model14 |\n\n",
            "text/latex": "A tibble: 5 × 8\n\\begin{tabular}{llllllll}\n mtry & min\\_n & .metric & .estimator & mean & n & std\\_err & .config\\\\\n <int> & <int> & <chr> & <chr> & <dbl> & <int> & <dbl> & <chr>\\\\\n\\hline\n\t 7 & 2 & mcc & binary & 1 & 30 & 0 & Preprocessor1\\_Model03\\\\\n\t 9 & 2 & mcc & binary & 1 & 30 & 0 & Preprocessor1\\_Model04\\\\\n\t 7 & 4 & mcc & binary & 1 & 30 & 0 & Preprocessor1\\_Model08\\\\\n\t 9 & 4 & mcc & binary & 1 & 30 & 0 & Preprocessor1\\_Model09\\\\\n\t 9 & 6 & mcc & binary & 1 & 30 & 0 & Preprocessor1\\_Model14\\\\\n\\end{tabular}\n",
            "text/plain": [
              "  mtry min_n .metric .estimator mean n  std_err .config              \n",
              "1 7    2     mcc     binary     1    30 0       Preprocessor1_Model03\n",
              "2 9    2     mcc     binary     1    30 0       Preprocessor1_Model04\n",
              "3 7    4     mcc     binary     1    30 0       Preprocessor1_Model08\n",
              "4 9    4     mcc     binary     1    30 0       Preprocessor1_Model09\n",
              "5 9    6     mcc     binary     1    30 0       Preprocessor1_Model14"
            ]
          },
          "metadata": {}
        },
        {
          "output_type": "display_data",
          "data": {
            "text/plain": [
              "plot without title"
            ],
            "image/png": "[encoded data removed]"
          },
          "metadata": {
            "image/png": {
              "width": 840,
              "height": 480
            }
          }
        }
      ],
      "source": [
        "# Parameters \"k_folds\" and \"nrepeats_cv\" will be applied to choose number of folds in (repeated) K-fold crossvalidation\n",
        "# and number of k-fold crossvalidation repeats during model training.\n",
        "# Several metrics (e.g. accuracy, AUC, MCC) will be calculated.\n",
        "\n",
        "set.seed(123)\n",
        "trees_folds <- vfold_cv(training_set, v = k_folds, repeats = nrepeats_cv)\n",
        "\n",
        "# In Random Forest models, mtry is the number of features randomly selected at each split.\n",
        "# A common rule of thumb for classification is √p, where p is the number of predictors (excluding the target).\n",
        "# ncol(training_set)-1 excludes the target variable from the count.\n",
        "\n",
        "m <- round(sqrt(ncol(training_set)-1),0)\n",
        "print(m)\n",
        "\n",
        "rf_grid <- grid_regular(\n",
        "  mtry(range = c(m-5, m+5)),\n",
        "  min_n(range = c(2, 10)),\n",
        "  levels = c(5,5) # 5 different values will be generated evenly spaced between m-5 and m+5 (mtry) and 2 and 10  (min_n)\n",
        ")\n",
        "\n",
        "# Displays the first few rows of the grid and the total number of combinations.\n",
        "\n",
        "head(rf_grid)\n",
        "nrow(rf_grid)\n",
        "\n",
        "# Performs model tuning using the tune_wf workflow.\n",
        "# Evaluation metrics:\n",
        "# - roc_auc: Area Under the ROC Curve.\n",
        "# - accuracy: Overall classification accuracy.\n",
        "# - mcc: Matthews Correlation Coefficient (great for imbalanced datasets).\n",
        "\n",
        "regular_res <- tune_grid(\n",
        "  tune_wf,\n",
        "  metrics = metric_set(roc_auc, accuracy, mcc),\n",
        "  resamples = trees_folds,  # provides the cross-validation strategy\n",
        "  grid = rf_grid\n",
        ")\n",
        "\n",
        "# Collects and prints the average performance metrics for each combination of hyperparameters\n",
        "\n",
        "regular_res |>\n",
        "  collect_metrics() |>\n",
        "  print()\n",
        "\n",
        "\n",
        "# Plots the MCC metric across different values of mtry, grouped by min_n.\n",
        "# Helps visualize which hyperparameter combinations performed best.\n",
        "\n",
        "library(\"repr\")\n",
        "options(repr.plot.width=14, repr.plot.height=8)\n",
        "\n",
        "regular_res %>%\n",
        "  collect_metrics() %>%\n",
        "  filter(.metric == \"mcc\") %>%\n",
        "  mutate(min_n = factor(min_n)) %>%\n",
        "  ggplot(aes(mtry, mean, color = min_n)) +\n",
        "  geom_line(alpha = 0.5, size = 1.5) +\n",
        "  geom_point() +\n",
        "  labs(y = \"mcc\")\n",
        "\n",
        "# Selects the best performing parameter set based on the MCC score.\n",
        "\n",
        "best_auc <- select_best(x = regular_res, metric = \"mcc\")\n",
        "show_best(regular_res, metric = \"mcc\") # Lists the top combinations ranked by MCC."
      ]
    },
    {
      "cell_type": "markdown",
      "id": "420a216b-09d9-447e-bfd3-4346a2d0f498",
      "metadata": {
        "id": "420a216b-09d9-447e-bfd3-4346a2d0f498"
      },
      "source": [
        "### Final model"
      ]
    },
    {
      "cell_type": "code",
      "execution_count": 14,
      "id": "1c2e4073-d726-42d3-bc10-1518e8050395",
      "metadata": {
        "vscode": {
          "languageId": "r"
        },
        "id": "1c2e4073-d726-42d3-bc10-1518e8050395",
        "outputId": "43e2d679-8d2f-4ace-fa61-fd0dd1f82816",
        "colab": {
          "base_uri": "https://localhost:8080/",
          "height": 484
        }
      },
      "outputs": [
        {
          "output_type": "stream",
          "name": "stdout",
          "text": [
            "Random Forest Model Specification (classification)\n",
            "\n",
            "Main Arguments:\n",
            "  mtry = 7\n",
            "  trees = 500\n",
            "  min_n = 2\n",
            "\n",
            "Computational engine: randomForest \n",
            "\n",
            "# Resampling results\n",
            "# Manual resampling \n",
            "\u001b[90m# A tibble: 1 × 6\u001b[39m\n",
            "  splits           id               .metrics .notes   .predictions .workflow \n",
            "  \u001b[3m\u001b[90m<list>\u001b[39m\u001b[23m           \u001b[3m\u001b[90m<chr>\u001b[39m\u001b[23m            \u001b[3m\u001b[90m<list>\u001b[39m\u001b[23m   \u001b[3m\u001b[90m<list>\u001b[39m\u001b[23m   \u001b[3m\u001b[90m<list>\u001b[39m\u001b[23m       \u001b[3m\u001b[90m<list>\u001b[39m\u001b[23m    \n",
            "\u001b[90m1\u001b[39m \u001b[90m<split [290/73]>\u001b[39m train/test split \u001b[90m<tibble>\u001b[39m \u001b[90m<tibble>\u001b[39m \u001b[90m<tibble>\u001b[39m     \u001b[90m<workflow>\u001b[39m\n"
          ]
        },
        {
          "output_type": "display_data",
          "data": {
            "text/html": [
              "<table class=\"dataframe\">\n",
              "<caption>A tibble: 4 × 4</caption>\n",
              "<thead>\n",
              "\t<tr><th scope=col>.metric</th><th scope=col>.estimator</th><th scope=col>.estimate</th><th scope=col>.config</th></tr>\n",
              "\t<tr><th scope=col>&lt;chr&gt;</th><th scope=col>&lt;chr&gt;</th><th scope=col>&lt;dbl&gt;</th><th scope=col>&lt;chr&gt;</th></tr>\n",
              "</thead>\n",
              "<tbody>\n",
              "\t<tr><td>accuracy   </td><td>binary</td><td>0.95890411</td><td>Preprocessor1_Model1</td></tr>\n",
              "\t<tr><td>mcc        </td><td>binary</td><td>0.90161846</td><td>Preprocessor1_Model1</td></tr>\n",
              "\t<tr><td>roc_auc    </td><td>binary</td><td>0.99732620</td><td>Preprocessor1_Model1</td></tr>\n",
              "\t<tr><td>brier_class</td><td>binary</td><td>0.02071112</td><td>Preprocessor1_Model1</td></tr>\n",
              "</tbody>\n",
              "</table>\n"
            ],
            "text/markdown": "\nA tibble: 4 × 4\n\n| .metric &lt;chr&gt; | .estimator &lt;chr&gt; | .estimate &lt;dbl&gt; | .config &lt;chr&gt; |\n|---|---|---|---|\n| accuracy    | binary | 0.95890411 | Preprocessor1_Model1 |\n| mcc         | binary | 0.90161846 | Preprocessor1_Model1 |\n| roc_auc     | binary | 0.99732620 | Preprocessor1_Model1 |\n| brier_class | binary | 0.02071112 | Preprocessor1_Model1 |\n\n",
            "text/latex": "A tibble: 4 × 4\n\\begin{tabular}{llll}\n .metric & .estimator & .estimate & .config\\\\\n <chr> & <chr> & <dbl> & <chr>\\\\\n\\hline\n\t accuracy    & binary & 0.95890411 & Preprocessor1\\_Model1\\\\\n\t mcc         & binary & 0.90161846 & Preprocessor1\\_Model1\\\\\n\t roc\\_auc     & binary & 0.99732620 & Preprocessor1\\_Model1\\\\\n\t brier\\_class & binary & 0.02071112 & Preprocessor1\\_Model1\\\\\n\\end{tabular}\n",
            "text/plain": [
              "  .metric     .estimator .estimate  .config             \n",
              "1 accuracy    binary     0.95890411 Preprocessor1_Model1\n",
              "2 mcc         binary     0.90161846 Preprocessor1_Model1\n",
              "3 roc_auc     binary     0.99732620 Preprocessor1_Model1\n",
              "4 brier_class binary     0.02071112 Preprocessor1_Model1"
            ]
          },
          "metadata": {}
        }
      ],
      "source": [
        "# It replaces the placeholders with the best values, creating the final tuned model.\n",
        "\n",
        "final_rf <- finalize_model(\n",
        "  tune_spec,  # your model specification with placeholder hyperparameters\n",
        "  best_auc  # the best hyperparameter combination found during tuning (in this case, chosen using MCC metric earlier)\n",
        ")\n",
        "\n",
        "print(final_rf)\n",
        "\n",
        "\n",
        "# Finalise the workflow including the final RF model and fit it to the initial split (training and test data):\n",
        "\n",
        "final_wf <- workflow() %>%\n",
        "  add_recipe(rf_recipe) %>%\n",
        "  add_model(final_rf)\n",
        "\n",
        "# Fits the finalized workflow to the training portion of rf_split and evaluates the model on the test portion of rf_split.\n",
        "\n",
        "final_res <- final_wf %>%\n",
        "  last_fit(rf_split, metrics = metric_set(roc_auc, accuracy, mcc, brier_class))\n",
        "\n",
        "# Evaluate the fine-tuned rf model\n",
        "\n",
        "print(final_res)\n",
        "final_res %>%\n",
        "  collect_metrics()"
      ]
    },
    {
      "cell_type": "markdown",
      "id": "2c694c2e-93e2-4738-9e7a-19535948dd43",
      "metadata": {
        "id": "2c694c2e-93e2-4738-9e7a-19535948dd43"
      },
      "source": [
        "## Get variable importance"
      ]
    },
    {
      "cell_type": "code",
      "execution_count": 15,
      "id": "a1d20c1a-6f18-461b-9b33-fec05dfd0752",
      "metadata": {
        "vscode": {
          "languageId": "r"
        },
        "id": "a1d20c1a-6f18-461b-9b33-fec05dfd0752",
        "outputId": "e2826693-b716-4a20-9091-822d2b3048a1",
        "colab": {
          "base_uri": "https://localhost:8080/",
          "height": 497
        }
      },
      "outputs": [
        {
          "output_type": "display_data",
          "data": {
            "text/plain": [
              "plot without title"
            ],
            "image/png": "[encoded data removed]"
          },
          "metadata": {
            "image/png": {
              "width": 840,
              "height": 480
            }
          }
        }
      ],
      "source": [
        "final_res %>%\n",
        "  pluck(\".workflow\", 1) %>%\n",
        "  extract_fit_parsnip() %>%\n",
        "  vip(num_features = 16)"
      ]
    },
    {
      "cell_type": "markdown",
      "id": "c659538c-43d7-471b-bb51-b0152203076a",
      "metadata": {
        "id": "c659538c-43d7-471b-bb51-b0152203076a"
      },
      "source": [
        "## Predictions on test set\n",
        "\n",
        "The predictive ability of the ML methods on the test set (final evaluation of model performance) will be assessed based on several metrics obtained from the confusion matrix, including accuracy, sensitivity, specificity and the Matthew’s Correlation Coefficient (\"MCC\")."
      ]
    },
    {
      "cell_type": "code",
      "execution_count": 16,
      "id": "374018b0-5f99-4bd9-b29c-bb666bb4f3b3",
      "metadata": {
        "vscode": {
          "languageId": "r"
        },
        "id": "374018b0-5f99-4bd9-b29c-bb666bb4f3b3",
        "outputId": "5dadcfe1-64ab-47bf-f8e7-e2e3fb8e4abf",
        "colab": {
          "base_uri": "https://localhost:8080/",
          "height": 1000
        }
      },
      "outputs": [
        {
          "output_type": "display_data",
          "data": {
            "text/html": [
              "<table class=\"dataframe\">\n",
              "<caption>A tibble: 73 × 7</caption>\n",
              "<thead>\n",
              "\t<tr><th scope=col>.pred_class</th><th scope=col>.pred_Archaea</th><th scope=col>.pred_Bacteria</th><th scope=col>id</th><th scope=col>.row</th><th scope=col>Outcome</th><th scope=col>.config</th></tr>\n",
              "\t<tr><th scope=col>&lt;fct&gt;</th><th scope=col>&lt;dbl&gt;</th><th scope=col>&lt;dbl&gt;</th><th scope=col>&lt;chr&gt;</th><th scope=col>&lt;int&gt;</th><th scope=col>&lt;fct&gt;</th><th scope=col>&lt;chr&gt;</th></tr>\n",
              "</thead>\n",
              "<tbody>\n",
              "\t<tr><td>Archaea </td><td>0.856</td><td>0.144</td><td>train/test split</td><td>  5</td><td>Archaea </td><td>Preprocessor1_Model1</td></tr>\n",
              "\t<tr><td>Archaea </td><td>0.974</td><td>0.026</td><td>train/test split</td><td>  7</td><td>Archaea </td><td>Preprocessor1_Model1</td></tr>\n",
              "\t<tr><td>Archaea </td><td>0.994</td><td>0.006</td><td>train/test split</td><td>  8</td><td>Archaea </td><td>Preprocessor1_Model1</td></tr>\n",
              "\t<tr><td>Archaea </td><td>0.952</td><td>0.048</td><td>train/test split</td><td> 17</td><td>Archaea </td><td>Preprocessor1_Model1</td></tr>\n",
              "\t<tr><td>Archaea </td><td>0.970</td><td>0.030</td><td>train/test split</td><td> 37</td><td>Archaea </td><td>Preprocessor1_Model1</td></tr>\n",
              "\t<tr><td>Bacteria</td><td>0.184</td><td>0.816</td><td>train/test split</td><td> 41</td><td>Archaea </td><td>Preprocessor1_Model1</td></tr>\n",
              "\t<tr><td>Archaea </td><td>0.956</td><td>0.044</td><td>train/test split</td><td> 42</td><td>Archaea </td><td>Preprocessor1_Model1</td></tr>\n",
              "\t<tr><td>Archaea </td><td>0.902</td><td>0.098</td><td>train/test split</td><td> 54</td><td>Archaea </td><td>Preprocessor1_Model1</td></tr>\n",
              "\t<tr><td>Archaea </td><td>0.956</td><td>0.044</td><td>train/test split</td><td> 62</td><td>Archaea </td><td>Preprocessor1_Model1</td></tr>\n",
              "\t<tr><td>Archaea </td><td>0.970</td><td>0.030</td><td>train/test split</td><td> 63</td><td>Archaea </td><td>Preprocessor1_Model1</td></tr>\n",
              "\t<tr><td>Archaea </td><td>0.716</td><td>0.284</td><td>train/test split</td><td> 64</td><td>Archaea </td><td>Preprocessor1_Model1</td></tr>\n",
              "\t<tr><td>Archaea </td><td>0.874</td><td>0.126</td><td>train/test split</td><td> 70</td><td>Archaea </td><td>Preprocessor1_Model1</td></tr>\n",
              "\t<tr><td>Bacteria</td><td>0.490</td><td>0.510</td><td>train/test split</td><td> 71</td><td>Archaea </td><td>Preprocessor1_Model1</td></tr>\n",
              "\t<tr><td>Archaea </td><td>0.986</td><td>0.014</td><td>train/test split</td><td> 76</td><td>Archaea </td><td>Preprocessor1_Model1</td></tr>\n",
              "\t<tr><td>Archaea </td><td>0.960</td><td>0.040</td><td>train/test split</td><td> 78</td><td>Archaea </td><td>Preprocessor1_Model1</td></tr>\n",
              "\t<tr><td>Archaea </td><td>0.986</td><td>0.014</td><td>train/test split</td><td> 79</td><td>Archaea </td><td>Preprocessor1_Model1</td></tr>\n",
              "\t<tr><td>Archaea </td><td>0.930</td><td>0.070</td><td>train/test split</td><td> 80</td><td>Archaea </td><td>Preprocessor1_Model1</td></tr>\n",
              "\t<tr><td>Archaea </td><td>0.956</td><td>0.044</td><td>train/test split</td><td> 85</td><td>Archaea </td><td>Preprocessor1_Model1</td></tr>\n",
              "\t<tr><td>Archaea </td><td>0.970</td><td>0.030</td><td>train/test split</td><td> 88</td><td>Archaea </td><td>Preprocessor1_Model1</td></tr>\n",
              "\t<tr><td>Archaea </td><td>0.990</td><td>0.010</td><td>train/test split</td><td> 92</td><td>Archaea </td><td>Preprocessor1_Model1</td></tr>\n",
              "\t<tr><td>Archaea </td><td>0.994</td><td>0.006</td><td>train/test split</td><td>104</td><td>Archaea </td><td>Preprocessor1_Model1</td></tr>\n",
              "\t<tr><td>Archaea </td><td>0.944</td><td>0.056</td><td>train/test split</td><td>109</td><td>Archaea </td><td>Preprocessor1_Model1</td></tr>\n",
              "\t<tr><td>Bacteria</td><td>0.008</td><td>0.992</td><td>train/test split</td><td>114</td><td>Bacteria</td><td>Preprocessor1_Model1</td></tr>\n",
              "\t<tr><td>Bacteria</td><td>0.008</td><td>0.992</td><td>train/test split</td><td>115</td><td>Bacteria</td><td>Preprocessor1_Model1</td></tr>\n",
              "\t<tr><td>Bacteria</td><td>0.006</td><td>0.994</td><td>train/test split</td><td>126</td><td>Bacteria</td><td>Preprocessor1_Model1</td></tr>\n",
              "\t<tr><td>Bacteria</td><td>0.012</td><td>0.988</td><td>train/test split</td><td>128</td><td>Bacteria</td><td>Preprocessor1_Model1</td></tr>\n",
              "\t<tr><td>Bacteria</td><td>0.018</td><td>0.982</td><td>train/test split</td><td>132</td><td>Bacteria</td><td>Preprocessor1_Model1</td></tr>\n",
              "\t<tr><td>Bacteria</td><td>0.004</td><td>0.996</td><td>train/test split</td><td>139</td><td>Bacteria</td><td>Preprocessor1_Model1</td></tr>\n",
              "\t<tr><td>Bacteria</td><td>0.010</td><td>0.990</td><td>train/test split</td><td>157</td><td>Bacteria</td><td>Preprocessor1_Model1</td></tr>\n",
              "\t<tr><td>Bacteria</td><td>0.038</td><td>0.962</td><td>train/test split</td><td>158</td><td>Bacteria</td><td>Preprocessor1_Model1</td></tr>\n",
              "\t<tr><td>⋮</td><td>⋮</td><td>⋮</td><td>⋮</td><td>⋮</td><td>⋮</td><td>⋮</td></tr>\n",
              "\t<tr><td>Bacteria</td><td>0.002</td><td>0.998</td><td>train/test split</td><td>228</td><td>Bacteria</td><td>Preprocessor1_Model1</td></tr>\n",
              "\t<tr><td>Bacteria</td><td>0.002</td><td>0.998</td><td>train/test split</td><td>230</td><td>Bacteria</td><td>Preprocessor1_Model1</td></tr>\n",
              "\t<tr><td>Bacteria</td><td>0.032</td><td>0.968</td><td>train/test split</td><td>234</td><td>Bacteria</td><td>Preprocessor1_Model1</td></tr>\n",
              "\t<tr><td>Bacteria</td><td>0.016</td><td>0.984</td><td>train/test split</td><td>235</td><td>Bacteria</td><td>Preprocessor1_Model1</td></tr>\n",
              "\t<tr><td>Bacteria</td><td>0.006</td><td>0.994</td><td>train/test split</td><td>240</td><td>Bacteria</td><td>Preprocessor1_Model1</td></tr>\n",
              "\t<tr><td>Bacteria</td><td>0.000</td><td>1.000</td><td>train/test split</td><td>242</td><td>Bacteria</td><td>Preprocessor1_Model1</td></tr>\n",
              "\t<tr><td>Bacteria</td><td>0.030</td><td>0.970</td><td>train/test split</td><td>256</td><td>Bacteria</td><td>Preprocessor1_Model1</td></tr>\n",
              "\t<tr><td>Bacteria</td><td>0.002</td><td>0.998</td><td>train/test split</td><td>257</td><td>Bacteria</td><td>Preprocessor1_Model1</td></tr>\n",
              "\t<tr><td>Bacteria</td><td>0.000</td><td>1.000</td><td>train/test split</td><td>265</td><td>Bacteria</td><td>Preprocessor1_Model1</td></tr>\n",
              "\t<tr><td>Bacteria</td><td>0.012</td><td>0.988</td><td>train/test split</td><td>269</td><td>Bacteria</td><td>Preprocessor1_Model1</td></tr>\n",
              "\t<tr><td>Bacteria</td><td>0.046</td><td>0.954</td><td>train/test split</td><td>273</td><td>Bacteria</td><td>Preprocessor1_Model1</td></tr>\n",
              "\t<tr><td>Bacteria</td><td>0.216</td><td>0.784</td><td>train/test split</td><td>276</td><td>Bacteria</td><td>Preprocessor1_Model1</td></tr>\n",
              "\t<tr><td>Bacteria</td><td>0.028</td><td>0.972</td><td>train/test split</td><td>277</td><td>Bacteria</td><td>Preprocessor1_Model1</td></tr>\n",
              "\t<tr><td>Bacteria</td><td>0.006</td><td>0.994</td><td>train/test split</td><td>282</td><td>Bacteria</td><td>Preprocessor1_Model1</td></tr>\n",
              "\t<tr><td>Bacteria</td><td>0.010</td><td>0.990</td><td>train/test split</td><td>283</td><td>Bacteria</td><td>Preprocessor1_Model1</td></tr>\n",
              "\t<tr><td>Bacteria</td><td>0.014</td><td>0.986</td><td>train/test split</td><td>296</td><td>Bacteria</td><td>Preprocessor1_Model1</td></tr>\n",
              "\t<tr><td>Bacteria</td><td>0.058</td><td>0.942</td><td>train/test split</td><td>301</td><td>Bacteria</td><td>Preprocessor1_Model1</td></tr>\n",
              "\t<tr><td>Bacteria</td><td>0.000</td><td>1.000</td><td>train/test split</td><td>304</td><td>Bacteria</td><td>Preprocessor1_Model1</td></tr>\n",
              "\t<tr><td>Archaea </td><td>0.574</td><td>0.426</td><td>train/test split</td><td>317</td><td>Bacteria</td><td>Preprocessor1_Model1</td></tr>\n",
              "\t<tr><td>Bacteria</td><td>0.012</td><td>0.988</td><td>train/test split</td><td>328</td><td>Bacteria</td><td>Preprocessor1_Model1</td></tr>\n",
              "\t<tr><td>Bacteria</td><td>0.006</td><td>0.994</td><td>train/test split</td><td>336</td><td>Bacteria</td><td>Preprocessor1_Model1</td></tr>\n",
              "\t<tr><td>Bacteria</td><td>0.002</td><td>0.998</td><td>train/test split</td><td>341</td><td>Bacteria</td><td>Preprocessor1_Model1</td></tr>\n",
              "\t<tr><td>Bacteria</td><td>0.004</td><td>0.996</td><td>train/test split</td><td>342</td><td>Bacteria</td><td>Preprocessor1_Model1</td></tr>\n",
              "\t<tr><td>Bacteria</td><td>0.004</td><td>0.996</td><td>train/test split</td><td>344</td><td>Bacteria</td><td>Preprocessor1_Model1</td></tr>\n",
              "\t<tr><td>Bacteria</td><td>0.002</td><td>0.998</td><td>train/test split</td><td>349</td><td>Bacteria</td><td>Preprocessor1_Model1</td></tr>\n",
              "\t<tr><td>Bacteria</td><td>0.000</td><td>1.000</td><td>train/test split</td><td>353</td><td>Bacteria</td><td>Preprocessor1_Model1</td></tr>\n",
              "\t<tr><td>Bacteria</td><td>0.106</td><td>0.894</td><td>train/test split</td><td>357</td><td>Bacteria</td><td>Preprocessor1_Model1</td></tr>\n",
              "\t<tr><td>Bacteria</td><td>0.052</td><td>0.948</td><td>train/test split</td><td>359</td><td>Bacteria</td><td>Preprocessor1_Model1</td></tr>\n",
              "\t<tr><td>Bacteria</td><td>0.016</td><td>0.984</td><td>train/test split</td><td>361</td><td>Bacteria</td><td>Preprocessor1_Model1</td></tr>\n",
              "\t<tr><td>Bacteria</td><td>0.014</td><td>0.986</td><td>train/test split</td><td>362</td><td>Bacteria</td><td>Preprocessor1_Model1</td></tr>\n",
              "</tbody>\n",
              "</table>\n"
            ],
            "text/markdown": "\nA tibble: 73 × 7\n\n| .pred_class &lt;fct&gt; | .pred_Archaea &lt;dbl&gt; | .pred_Bacteria &lt;dbl&gt; | id &lt;chr&gt; | .row &lt;int&gt; | Outcome &lt;fct&gt; | .config &lt;chr&gt; |\n|---|---|---|---|---|---|---|\n| Archaea  | 0.856 | 0.144 | train/test split |   5 | Archaea  | Preprocessor1_Model1 |\n| Archaea  | 0.974 | 0.026 | train/test split |   7 | Archaea  | Preprocessor1_Model1 |\n| Archaea  | 0.994 | 0.006 | train/test split |   8 | Archaea  | Preprocessor1_Model1 |\n| Archaea  | 0.952 | 0.048 | train/test split |  17 | Archaea  | Preprocessor1_Model1 |\n| Archaea  | 0.970 | 0.030 | train/test split |  37 | Archaea  | Preprocessor1_Model1 |\n| Bacteria | 0.184 | 0.816 | train/test split |  41 | Archaea  | Preprocessor1_Model1 |\n| Archaea  | 0.956 | 0.044 | train/test split |  42 | Archaea  | Preprocessor1_Model1 |\n| Archaea  | 0.902 | 0.098 | train/test split |  54 | Archaea  | Preprocessor1_Model1 |\n| Archaea  | 0.956 | 0.044 | train/test split |  62 | Archaea  | Preprocessor1_Model1 |\n| Archaea  | 0.970 | 0.030 | train/test split |  63 | Archaea  | Preprocessor1_Model1 |\n| Archaea  | 0.716 | 0.284 | train/test split |  64 | Archaea  | Preprocessor1_Model1 |\n| Archaea  | 0.874 | 0.126 | train/test split |  70 | Archaea  | Preprocessor1_Model1 |\n| Bacteria | 0.490 | 0.510 | train/test split |  71 | Archaea  | Preprocessor1_Model1 |\n| Archaea  | 0.986 | 0.014 | train/test split |  76 | Archaea  | Preprocessor1_Model1 |\n| Archaea  | 0.960 | 0.040 | train/test split |  78 | Archaea  | Preprocessor1_Model1 |\n| Archaea  | 0.986 | 0.014 | train/test split |  79 | Archaea  | Preprocessor1_Model1 |\n| Archaea  | 0.930 | 0.070 | train/test split |  80 | Archaea  | Preprocessor1_Model1 |\n| Archaea  | 0.956 | 0.044 | train/test split |  85 | Archaea  | Preprocessor1_Model1 |\n| Archaea  | 0.970 | 0.030 | train/test split |  88 | Archaea  | Preprocessor1_Model1 |\n| Archaea  | 0.990 | 0.010 | train/test split |  92 | Archaea  | Preprocessor1_Model1 |\n| Archaea  | 0.994 | 0.006 | train/test split | 104 | Archaea  | Preprocessor1_Model1 |\n| Archaea  | 0.944 | 0.056 | train/test split | 109 | Archaea  | Preprocessor1_Model1 |\n| Bacteria | 0.008 | 0.992 | train/test split | 114 | Bacteria | Preprocessor1_Model1 |\n| Bacteria | 0.008 | 0.992 | train/test split | 115 | Bacteria | Preprocessor1_Model1 |\n| Bacteria | 0.006 | 0.994 | train/test split | 126 | Bacteria | Preprocessor1_Model1 |\n| Bacteria | 0.012 | 0.988 | train/test split | 128 | Bacteria | Preprocessor1_Model1 |\n| Bacteria | 0.018 | 0.982 | train/test split | 132 | Bacteria | Preprocessor1_Model1 |\n| Bacteria | 0.004 | 0.996 | train/test split | 139 | Bacteria | Preprocessor1_Model1 |\n| Bacteria | 0.010 | 0.990 | train/test split | 157 | Bacteria | Preprocessor1_Model1 |\n| Bacteria | 0.038 | 0.962 | train/test split | 158 | Bacteria | Preprocessor1_Model1 |\n| ⋮ | ⋮ | ⋮ | ⋮ | ⋮ | ⋮ | ⋮ |\n| Bacteria | 0.002 | 0.998 | train/test split | 228 | Bacteria | Preprocessor1_Model1 |\n| Bacteria | 0.002 | 0.998 | train/test split | 230 | Bacteria | Preprocessor1_Model1 |\n| Bacteria | 0.032 | 0.968 | train/test split | 234 | Bacteria | Preprocessor1_Model1 |\n| Bacteria | 0.016 | 0.984 | train/test split | 235 | Bacteria | Preprocessor1_Model1 |\n| Bacteria | 0.006 | 0.994 | train/test split | 240 | Bacteria | Preprocessor1_Model1 |\n| Bacteria | 0.000 | 1.000 | train/test split | 242 | Bacteria | Preprocessor1_Model1 |\n| Bacteria | 0.030 | 0.970 | train/test split | 256 | Bacteria | Preprocessor1_Model1 |\n| Bacteria | 0.002 | 0.998 | train/test split | 257 | Bacteria | Preprocessor1_Model1 |\n| Bacteria | 0.000 | 1.000 | train/test split | 265 | Bacteria | Preprocessor1_Model1 |\n| Bacteria | 0.012 | 0.988 | train/test split | 269 | Bacteria | Preprocessor1_Model1 |\n| Bacteria | 0.046 | 0.954 | train/test split | 273 | Bacteria | Preprocessor1_Model1 |\n| Bacteria | 0.216 | 0.784 | train/test split | 276 | Bacteria | Preprocessor1_Model1 |\n| Bacteria | 0.028 | 0.972 | train/test split | 277 | Bacteria | Preprocessor1_Model1 |\n| Bacteria | 0.006 | 0.994 | train/test split | 282 | Bacteria | Preprocessor1_Model1 |\n| Bacteria | 0.010 | 0.990 | train/test split | 283 | Bacteria | Preprocessor1_Model1 |\n| Bacteria | 0.014 | 0.986 | train/test split | 296 | Bacteria | Preprocessor1_Model1 |\n| Bacteria | 0.058 | 0.942 | train/test split | 301 | Bacteria | Preprocessor1_Model1 |\n| Bacteria | 0.000 | 1.000 | train/test split | 304 | Bacteria | Preprocessor1_Model1 |\n| Archaea  | 0.574 | 0.426 | train/test split | 317 | Bacteria | Preprocessor1_Model1 |\n| Bacteria | 0.012 | 0.988 | train/test split | 328 | Bacteria | Preprocessor1_Model1 |\n| Bacteria | 0.006 | 0.994 | train/test split | 336 | Bacteria | Preprocessor1_Model1 |\n| Bacteria | 0.002 | 0.998 | train/test split | 341 | Bacteria | Preprocessor1_Model1 |\n| Bacteria | 0.004 | 0.996 | train/test split | 342 | Bacteria | Preprocessor1_Model1 |\n| Bacteria | 0.004 | 0.996 | train/test split | 344 | Bacteria | Preprocessor1_Model1 |\n| Bacteria | 0.002 | 0.998 | train/test split | 349 | Bacteria | Preprocessor1_Model1 |\n| Bacteria | 0.000 | 1.000 | train/test split | 353 | Bacteria | Preprocessor1_Model1 |\n| Bacteria | 0.106 | 0.894 | train/test split | 357 | Bacteria | Preprocessor1_Model1 |\n| Bacteria | 0.052 | 0.948 | train/test split | 359 | Bacteria | Preprocessor1_Model1 |\n| Bacteria | 0.016 | 0.984 | train/test split | 361 | Bacteria | Preprocessor1_Model1 |\n| Bacteria | 0.014 | 0.986 | train/test split | 362 | Bacteria | Preprocessor1_Model1 |\n\n",
            "text/latex": "A tibble: 73 × 7\n\\begin{tabular}{lllllll}\n .pred\\_class & .pred\\_Archaea & .pred\\_Bacteria & id & .row & Outcome & .config\\\\\n <fct> & <dbl> & <dbl> & <chr> & <int> & <fct> & <chr>\\\\\n\\hline\n\t Archaea  & 0.856 & 0.144 & train/test split &   5 & Archaea  & Preprocessor1\\_Model1\\\\\n\t Archaea  & 0.974 & 0.026 & train/test split &   7 & Archaea  & Preprocessor1\\_Model1\\\\\n\t Archaea  & 0.994 & 0.006 & train/test split &   8 & Archaea  & Preprocessor1\\_Model1\\\\\n\t Archaea  & 0.952 & 0.048 & train/test split &  17 & Archaea  & Preprocessor1\\_Model1\\\\\n\t Archaea  & 0.970 & 0.030 & train/test split &  37 & Archaea  & Preprocessor1\\_Model1\\\\\n\t Bacteria & 0.184 & 0.816 & train/test split &  41 & Archaea  & Preprocessor1\\_Model1\\\\\n\t Archaea  & 0.956 & 0.044 & train/test split &  42 & Archaea  & Preprocessor1\\_Model1\\\\\n\t Archaea  & 0.902 & 0.098 & train/test split &  54 & Archaea  & Preprocessor1\\_Model1\\\\\n\t Archaea  & 0.956 & 0.044 & train/test split &  62 & Archaea  & Preprocessor1\\_Model1\\\\\n\t Archaea  & 0.970 & 0.030 & train/test split &  63 & Archaea  & Preprocessor1\\_Model1\\\\\n\t Archaea  & 0.716 & 0.284 & train/test split &  64 & Archaea  & Preprocessor1\\_Model1\\\\\n\t Archaea  & 0.874 & 0.126 & train/test split &  70 & Archaea  & Preprocessor1\\_Model1\\\\\n\t Bacteria & 0.490 & 0.510 & train/test split &  71 & Archaea  & Preprocessor1\\_Model1\\\\\n\t Archaea  & 0.986 & 0.014 & train/test split &  76 & Archaea  & Preprocessor1\\_Model1\\\\\n\t Archaea  & 0.960 & 0.040 & train/test split &  78 & Archaea  & Preprocessor1\\_Model1\\\\\n\t Archaea  & 0.986 & 0.014 & train/test split &  79 & Archaea  & Preprocessor1\\_Model1\\\\\n\t Archaea  & 0.930 & 0.070 & train/test split &  80 & Archaea  & Preprocessor1\\_Model1\\\\\n\t Archaea  & 0.956 & 0.044 & train/test split &  85 & Archaea  & Preprocessor1\\_Model1\\\\\n\t Archaea  & 0.970 & 0.030 & train/test split &  88 & Archaea  & Preprocessor1\\_Model1\\\\\n\t Archaea  & 0.990 & 0.010 & train/test split &  92 & Archaea  & Preprocessor1\\_Model1\\\\\n\t Archaea  & 0.994 & 0.006 & train/test split & 104 & Archaea  & Preprocessor1\\_Model1\\\\\n\t Archaea  & 0.944 & 0.056 & train/test split & 109 & Archaea  & Preprocessor1\\_Model1\\\\\n\t Bacteria & 0.008 & 0.992 & train/test split & 114 & Bacteria & Preprocessor1\\_Model1\\\\\n\t Bacteria & 0.008 & 0.992 & train/test split & 115 & Bacteria & Preprocessor1\\_Model1\\\\\n\t Bacteria & 0.006 & 0.994 & train/test split & 126 & Bacteria & Preprocessor1\\_Model1\\\\\n\t Bacteria & 0.012 & 0.988 & train/test split & 128 & Bacteria & Preprocessor1\\_Model1\\\\\n\t Bacteria & 0.018 & 0.982 & train/test split & 132 & Bacteria & Preprocessor1\\_Model1\\\\\n\t Bacteria & 0.004 & 0.996 & train/test split & 139 & Bacteria & Preprocessor1\\_Model1\\\\\n\t Bacteria & 0.010 & 0.990 & train/test split & 157 & Bacteria & Preprocessor1\\_Model1\\\\\n\t Bacteria & 0.038 & 0.962 & train/test split & 158 & Bacteria & Preprocessor1\\_Model1\\\\\n\t ⋮ & ⋮ & ⋮ & ⋮ & ⋮ & ⋮ & ⋮\\\\\n\t Bacteria & 0.002 & 0.998 & train/test split & 228 & Bacteria & Preprocessor1\\_Model1\\\\\n\t Bacteria & 0.002 & 0.998 & train/test split & 230 & Bacteria & Preprocessor1\\_Model1\\\\\n\t Bacteria & 0.032 & 0.968 & train/test split & 234 & Bacteria & Preprocessor1\\_Model1\\\\\n\t Bacteria & 0.016 & 0.984 & train/test split & 235 & Bacteria & Preprocessor1\\_Model1\\\\\n\t Bacteria & 0.006 & 0.994 & train/test split & 240 & Bacteria & Preprocessor1\\_Model1\\\\\n\t Bacteria & 0.000 & 1.000 & train/test split & 242 & Bacteria & Preprocessor1\\_Model1\\\\\n\t Bacteria & 0.030 & 0.970 & train/test split & 256 & Bacteria & Preprocessor1\\_Model1\\\\\n\t Bacteria & 0.002 & 0.998 & train/test split & 257 & Bacteria & Preprocessor1\\_Model1\\\\\n\t Bacteria & 0.000 & 1.000 & train/test split & 265 & Bacteria & Preprocessor1\\_Model1\\\\\n\t Bacteria & 0.012 & 0.988 & train/test split & 269 & Bacteria & Preprocessor1\\_Model1\\\\\n\t Bacteria & 0.046 & 0.954 & train/test split & 273 & Bacteria & Preprocessor1\\_Model1\\\\\n\t Bacteria & 0.216 & 0.784 & train/test split & 276 & Bacteria & Preprocessor1\\_Model1\\\\\n\t Bacteria & 0.028 & 0.972 & train/test split & 277 & Bacteria & Preprocessor1\\_Model1\\\\\n\t Bacteria & 0.006 & 0.994 & train/test split & 282 & Bacteria & Preprocessor1\\_Model1\\\\\n\t Bacteria & 0.010 & 0.990 & train/test split & 283 & Bacteria & Preprocessor1\\_Model1\\\\\n\t Bacteria & 0.014 & 0.986 & train/test split & 296 & Bacteria & Preprocessor1\\_Model1\\\\\n\t Bacteria & 0.058 & 0.942 & train/test split & 301 & Bacteria & Preprocessor1\\_Model1\\\\\n\t Bacteria & 0.000 & 1.000 & train/test split & 304 & Bacteria & Preprocessor1\\_Model1\\\\\n\t Archaea  & 0.574 & 0.426 & train/test split & 317 & Bacteria & Preprocessor1\\_Model1\\\\\n\t Bacteria & 0.012 & 0.988 & train/test split & 328 & Bacteria & Preprocessor1\\_Model1\\\\\n\t Bacteria & 0.006 & 0.994 & train/test split & 336 & Bacteria & Preprocessor1\\_Model1\\\\\n\t Bacteria & 0.002 & 0.998 & train/test split & 341 & Bacteria & Preprocessor1\\_Model1\\\\\n\t Bacteria & 0.004 & 0.996 & train/test split & 342 & Bacteria & Preprocessor1\\_Model1\\\\\n\t Bacteria & 0.004 & 0.996 & train/test split & 344 & Bacteria & Preprocessor1\\_Model1\\\\\n\t Bacteria & 0.002 & 0.998 & train/test split & 349 & Bacteria & Preprocessor1\\_Model1\\\\\n\t Bacteria & 0.000 & 1.000 & train/test split & 353 & Bacteria & Preprocessor1\\_Model1\\\\\n\t Bacteria & 0.106 & 0.894 & train/test split & 357 & Bacteria & Preprocessor1\\_Model1\\\\\n\t Bacteria & 0.052 & 0.948 & train/test split & 359 & Bacteria & Preprocessor1\\_Model1\\\\\n\t Bacteria & 0.016 & 0.984 & train/test split & 361 & Bacteria & Preprocessor1\\_Model1\\\\\n\t Bacteria & 0.014 & 0.986 & train/test split & 362 & Bacteria & Preprocessor1\\_Model1\\\\\n\\end{tabular}\n",
            "text/plain": [
              "   .pred_class .pred_Archaea .pred_Bacteria id               .row Outcome \n",
              "1  Archaea     0.856         0.144          train/test split   5  Archaea \n",
              "2  Archaea     0.974         0.026          train/test split   7  Archaea \n",
              "3  Archaea     0.994         0.006          train/test split   8  Archaea \n",
              "4  Archaea     0.952         0.048          train/test split  17  Archaea \n",
              "5  Archaea     0.970         0.030          train/test split  37  Archaea \n",
              "6  Bacteria    0.184         0.816          train/test split  41  Archaea \n",
              "7  Archaea     0.956         0.044          train/test split  42  Archaea \n",
              "8  Archaea     0.902         0.098          train/test split  54  Archaea \n",
              "9  Archaea     0.956         0.044          train/test split  62  Archaea \n",
              "10 Archaea     0.970         0.030          train/test split  63  Archaea \n",
              "11 Archaea     0.716         0.284          train/test split  64  Archaea \n",
              "12 Archaea     0.874         0.126          train/test split  70  Archaea \n",
              "13 Bacteria    0.490         0.510          train/test split  71  Archaea \n",
              "14 Archaea     0.986         0.014          train/test split  76  Archaea \n",
              "15 Archaea     0.960         0.040          train/test split  78  Archaea \n",
              "16 Archaea     0.986         0.014          train/test split  79  Archaea \n",
              "17 Archaea     0.930         0.070          train/test split  80  Archaea \n",
              "18 Archaea     0.956         0.044          train/test split  85  Archaea \n",
              "19 Archaea     0.970         0.030          train/test split  88  Archaea \n",
              "20 Archaea     0.990         0.010          train/test split  92  Archaea \n",
              "21 Archaea     0.994         0.006          train/test split 104  Archaea \n",
              "22 Archaea     0.944         0.056          train/test split 109  Archaea \n",
              "23 Bacteria    0.008         0.992          train/test split 114  Bacteria\n",
              "24 Bacteria    0.008         0.992          train/test split 115  Bacteria\n",
              "25 Bacteria    0.006         0.994          train/test split 126  Bacteria\n",
              "26 Bacteria    0.012         0.988          train/test split 128  Bacteria\n",
              "27 Bacteria    0.018         0.982          train/test split 132  Bacteria\n",
              "28 Bacteria    0.004         0.996          train/test split 139  Bacteria\n",
              "29 Bacteria    0.010         0.990          train/test split 157  Bacteria\n",
              "30 Bacteria    0.038         0.962          train/test split 158  Bacteria\n",
              "⋮  ⋮           ⋮             ⋮              ⋮                ⋮    ⋮       \n",
              "44 Bacteria    0.002         0.998          train/test split 228  Bacteria\n",
              "45 Bacteria    0.002         0.998          train/test split 230  Bacteria\n",
              "46 Bacteria    0.032         0.968          train/test split 234  Bacteria\n",
              "47 Bacteria    0.016         0.984          train/test split 235  Bacteria\n",
              "48 Bacteria    0.006         0.994          train/test split 240  Bacteria\n",
              "49 Bacteria    0.000         1.000          train/test split 242  Bacteria\n",
              "50 Bacteria    0.030         0.970          train/test split 256  Bacteria\n",
              "51 Bacteria    0.002         0.998          train/test split 257  Bacteria\n",
              "52 Bacteria    0.000         1.000          train/test split 265  Bacteria\n",
              "53 Bacteria    0.012         0.988          train/test split 269  Bacteria\n",
              "54 Bacteria    0.046         0.954          train/test split 273  Bacteria\n",
              "55 Bacteria    0.216         0.784          train/test split 276  Bacteria\n",
              "56 Bacteria    0.028         0.972          train/test split 277  Bacteria\n",
              "57 Bacteria    0.006         0.994          train/test split 282  Bacteria\n",
              "58 Bacteria    0.010         0.990          train/test split 283  Bacteria\n",
              "59 Bacteria    0.014         0.986          train/test split 296  Bacteria\n",
              "60 Bacteria    0.058         0.942          train/test split 301  Bacteria\n",
              "61 Bacteria    0.000         1.000          train/test split 304  Bacteria\n",
              "62 Archaea     0.574         0.426          train/test split 317  Bacteria\n",
              "63 Bacteria    0.012         0.988          train/test split 328  Bacteria\n",
              "64 Bacteria    0.006         0.994          train/test split 336  Bacteria\n",
              "65 Bacteria    0.002         0.998          train/test split 341  Bacteria\n",
              "66 Bacteria    0.004         0.996          train/test split 342  Bacteria\n",
              "67 Bacteria    0.004         0.996          train/test split 344  Bacteria\n",
              "68 Bacteria    0.002         0.998          train/test split 349  Bacteria\n",
              "69 Bacteria    0.000         1.000          train/test split 353  Bacteria\n",
              "70 Bacteria    0.106         0.894          train/test split 357  Bacteria\n",
              "71 Bacteria    0.052         0.948          train/test split 359  Bacteria\n",
              "72 Bacteria    0.016         0.984          train/test split 361  Bacteria\n",
              "73 Bacteria    0.014         0.986          train/test split 362  Bacteria\n",
              "   .config             \n",
              "1  Preprocessor1_Model1\n",
              "2  Preprocessor1_Model1\n",
              "3  Preprocessor1_Model1\n",
              "4  Preprocessor1_Model1\n",
              "5  Preprocessor1_Model1\n",
              "6  Preprocessor1_Model1\n",
              "7  Preprocessor1_Model1\n",
              "8  Preprocessor1_Model1\n",
              "9  Preprocessor1_Model1\n",
              "10 Preprocessor1_Model1\n",
              "11 Preprocessor1_Model1\n",
              "12 Preprocessor1_Model1\n",
              "13 Preprocessor1_Model1\n",
              "14 Preprocessor1_Model1\n",
              "15 Preprocessor1_Model1\n",
              "16 Preprocessor1_Model1\n",
              "17 Preprocessor1_Model1\n",
              "18 Preprocessor1_Model1\n",
              "19 Preprocessor1_Model1\n",
              "20 Preprocessor1_Model1\n",
              "21 Preprocessor1_Model1\n",
              "22 Preprocessor1_Model1\n",
              "23 Preprocessor1_Model1\n",
              "24 Preprocessor1_Model1\n",
              "25 Preprocessor1_Model1\n",
              "26 Preprocessor1_Model1\n",
              "27 Preprocessor1_Model1\n",
              "28 Preprocessor1_Model1\n",
              "29 Preprocessor1_Model1\n",
              "30 Preprocessor1_Model1\n",
              "⋮  ⋮                   \n",
              "44 Preprocessor1_Model1\n",
              "45 Preprocessor1_Model1\n",
              "46 Preprocessor1_Model1\n",
              "47 Preprocessor1_Model1\n",
              "48 Preprocessor1_Model1\n",
              "49 Preprocessor1_Model1\n",
              "50 Preprocessor1_Model1\n",
              "51 Preprocessor1_Model1\n",
              "52 Preprocessor1_Model1\n",
              "53 Preprocessor1_Model1\n",
              "54 Preprocessor1_Model1\n",
              "55 Preprocessor1_Model1\n",
              "56 Preprocessor1_Model1\n",
              "57 Preprocessor1_Model1\n",
              "58 Preprocessor1_Model1\n",
              "59 Preprocessor1_Model1\n",
              "60 Preprocessor1_Model1\n",
              "61 Preprocessor1_Model1\n",
              "62 Preprocessor1_Model1\n",
              "63 Preprocessor1_Model1\n",
              "64 Preprocessor1_Model1\n",
              "65 Preprocessor1_Model1\n",
              "66 Preprocessor1_Model1\n",
              "67 Preprocessor1_Model1\n",
              "68 Preprocessor1_Model1\n",
              "69 Preprocessor1_Model1\n",
              "70 Preprocessor1_Model1\n",
              "71 Preprocessor1_Model1\n",
              "72 Preprocessor1_Model1\n",
              "73 Preprocessor1_Model1"
            ]
          },
          "metadata": {}
        },
        {
          "output_type": "stream",
          "name": "stdout",
          "text": [
            "          Truth\n",
            "Prediction Archaea Bacteria\n",
            "  Archaea       20        1\n",
            "  Bacteria       2       50\n",
            "[1] \"Test set metrics:\"\n",
            "\u001b[90m# A tibble: 1 × 4\u001b[39m\n",
            "  accuracy sensitivity specificity   mcc\n",
            "     \u001b[3m\u001b[90m<dbl>\u001b[39m\u001b[23m       \u001b[3m\u001b[90m<dbl>\u001b[39m\u001b[23m       \u001b[3m\u001b[90m<dbl>\u001b[39m\u001b[23m \u001b[3m\u001b[90m<dbl>\u001b[39m\u001b[23m\n",
            "\u001b[90m1\u001b[39m    0.959       0.980       0.909 0.902\n",
            "[1] \"DONE!!\"\n"
          ]
        }
      ],
      "source": [
        "# We collect the predictions on the test set\n",
        "\n",
        "final_res %>%\n",
        "  collect_predictions()\n",
        "\n",
        "cm <- final_res %>%\n",
        "  collect_predictions() %>%\n",
        "  conf_mat(Outcome, .pred_class)\n",
        "\n",
        "print(cm)\n",
        "\n",
        "# Calculate classification metrics on test set\n",
        "# \"Bacteria\" is the positive class when using event_level = \"second\"\n",
        "\n",
        "test_metrics <- final_res %>%\n",
        "  collect_predictions() %>%\n",
        "  summarise(\n",
        "    accuracy = accuracy_vec(truth = Outcome, estimate = .pred_class),\n",
        "    sensitivity = sens_vec(truth = Outcome, estimate = .pred_class, event_level = \"second\"),\n",
        "    specificity = spec_vec(truth = Outcome, estimate = .pred_class, event_level = \"second\"),\n",
        "    mcc = mcc_vec(truth = Outcome, estimate = .pred_class)\n",
        "  )\n",
        "\n",
        "print(\"Test set metrics:\")\n",
        "print(test_metrics)\n",
        "\n",
        "\n",
        "print(\"DONE!!\")"
      ]
    },
    {
      "cell_type": "markdown",
      "id": "4761ad23-84b7-4a9b-b469-aaf31e6eb47f",
      "metadata": {
        "id": "4761ad23-84b7-4a9b-b469-aaf31e6eb47f"
      },
      "source": [
        "## Save workspace"
      ]
    },
    {
      "cell_type": "code",
      "execution_count": null,
      "id": "e72e20c5-efaa-401d-bc26-6645c2120fea",
      "metadata": {
        "vscode": {
          "languageId": "r"
        },
        "id": "e72e20c5-efaa-401d-bc26-6645c2120fea"
      },
      "outputs": [],
      "source": [
        "save.image(\"rf_workshop.RData\")"
      ]
    }
  ],
  "metadata": {
    "kernelspec": {
      "display_name": "R",
      "language": "R",
      "name": "ir"
    },
    "language_info": {
      "codemirror_mode": "r",
      "file_extension": ".r",
      "mimetype": "text/x-r-source",
      "name": "R",
      "pygments_lexer": "r",
      "version": "4.3.1"
    },
    "colab": {
      "provenance": []
    }
  },
  "nbformat": 4,
  "nbformat_minor": 5
}